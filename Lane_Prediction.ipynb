{
 "cells": [
  {
   "cell_type": "code",
   "execution_count": 74,
   "metadata": {},
   "outputs": [],
   "source": [
    "import numpy as np\n",
    "import matplotlib.pyplot as plt\n",
    "import pandas as pd"
   ]
  },
  {
   "cell_type": "code",
   "execution_count": 75,
   "metadata": {},
   "outputs": [],
   "source": [
    "df = pd.read_csv('lane.csv',delimiter=\";\")"
   ]
  },
  {
   "cell_type": "code",
   "execution_count": 76,
   "metadata": {},
   "outputs": [
    {
     "name": "stdout",
     "output_type": "stream",
     "text": [
      "(962721, 10)\n"
     ]
    }
   ],
   "source": [
    "print(df.shape)\n",
    "m = df.shape[0]\n",
    "n = df.shape[1]"
   ]
  },
  {
   "cell_type": "code",
   "execution_count": 77,
   "metadata": {},
   "outputs": [],
   "source": [
    "Y = df[df.columns[2]]"
   ]
  },
  {
   "cell_type": "code",
   "execution_count": 78,
   "metadata": {},
   "outputs": [
    {
     "data": {
      "text/html": [
       "<div>\n",
       "<style scoped>\n",
       "    .dataframe tbody tr th:only-of-type {\n",
       "        vertical-align: middle;\n",
       "    }\n",
       "\n",
       "    .dataframe tbody tr th {\n",
       "        vertical-align: top;\n",
       "    }\n",
       "\n",
       "    .dataframe thead th {\n",
       "        text-align: right;\n",
       "    }\n",
       "</style>\n",
       "<table border=\"1\" class=\"dataframe\">\n",
       "  <thead>\n",
       "    <tr style=\"text-align: right;\">\n",
       "      <th></th>\n",
       "      <th>timestep_time</th>\n",
       "      <th>vehicle_slope</th>\n",
       "      <th>vehicle_lane</th>\n",
       "      <th>vehicle_angle</th>\n",
       "      <th>vehicle_type</th>\n",
       "      <th>vehicle_pos</th>\n",
       "      <th>vehicle_y</th>\n",
       "      <th>vehicle_x</th>\n",
       "      <th>vehicle_speed</th>\n",
       "      <th>vehicle_id</th>\n",
       "    </tr>\n",
       "  </thead>\n",
       "  <tbody>\n",
       "    <tr>\n",
       "      <th>0</th>\n",
       "      <td>0.0</td>\n",
       "      <td>0.0</td>\n",
       "      <td>-1356_0</td>\n",
       "      <td>-101.40</td>\n",
       "      <td>Bus</td>\n",
       "      <td>6.1</td>\n",
       "      <td>555.85</td>\n",
       "      <td>1588.94</td>\n",
       "      <td>0.0</td>\n",
       "      <td>BusFlowEastWest0.0</td>\n",
       "    </tr>\n",
       "    <tr>\n",
       "      <th>1</th>\n",
       "      <td>0.0</td>\n",
       "      <td>0.0</td>\n",
       "      <td>28925528_0</td>\n",
       "      <td>-44.63</td>\n",
       "      <td>Bus</td>\n",
       "      <td>6.1</td>\n",
       "      <td>722.81</td>\n",
       "      <td>1270.66</td>\n",
       "      <td>0.0</td>\n",
       "      <td>BusFlowNorthSouth0.0</td>\n",
       "    </tr>\n",
       "    <tr>\n",
       "      <th>2</th>\n",
       "      <td>0.0</td>\n",
       "      <td>0.0</td>\n",
       "      <td>239331354_0</td>\n",
       "      <td>160.22</td>\n",
       "      <td>Bus</td>\n",
       "      <td>6.1</td>\n",
       "      <td>471.48</td>\n",
       "      <td>1183.77</td>\n",
       "      <td>0.0</td>\n",
       "      <td>BusFlowSouthNorth0.0</td>\n",
       "    </tr>\n",
       "    <tr>\n",
       "      <th>3</th>\n",
       "      <td>0.0</td>\n",
       "      <td>0.0</td>\n",
       "      <td>-240120122_0</td>\n",
       "      <td>67.65</td>\n",
       "      <td>Bus</td>\n",
       "      <td>6.1</td>\n",
       "      <td>711.28</td>\n",
       "      <td>874.23</td>\n",
       "      <td>0.0</td>\n",
       "      <td>BusFlowWestEast0.0</td>\n",
       "    </tr>\n",
       "    <tr>\n",
       "      <th>4</th>\n",
       "      <td>0.0</td>\n",
       "      <td>0.0</td>\n",
       "      <td>-1274_0</td>\n",
       "      <td>16.81</td>\n",
       "      <td>Vehicle</td>\n",
       "      <td>4.1</td>\n",
       "      <td>517.45</td>\n",
       "      <td>1849.76</td>\n",
       "      <td>0.0</td>\n",
       "      <td>VehicleFlowEastToNorth.0</td>\n",
       "    </tr>\n",
       "  </tbody>\n",
       "</table>\n",
       "</div>"
      ],
      "text/plain": [
       "   timestep_time  vehicle_slope  vehicle_lane  vehicle_angle vehicle_type  \\\n",
       "0            0.0            0.0       -1356_0        -101.40          Bus   \n",
       "1            0.0            0.0    28925528_0         -44.63          Bus   \n",
       "2            0.0            0.0   239331354_0         160.22          Bus   \n",
       "3            0.0            0.0  -240120122_0          67.65          Bus   \n",
       "4            0.0            0.0       -1274_0          16.81      Vehicle   \n",
       "\n",
       "   vehicle_pos  vehicle_y  vehicle_x  vehicle_speed                vehicle_id  \n",
       "0          6.1     555.85    1588.94            0.0        BusFlowEastWest0.0  \n",
       "1          6.1     722.81    1270.66            0.0      BusFlowNorthSouth0.0  \n",
       "2          6.1     471.48    1183.77            0.0      BusFlowSouthNorth0.0  \n",
       "3          6.1     711.28     874.23            0.0        BusFlowWestEast0.0  \n",
       "4          4.1     517.45    1849.76            0.0  VehicleFlowEastToNorth.0  "
      ]
     },
     "execution_count": 78,
     "metadata": {},
     "output_type": "execute_result"
    }
   ],
   "source": [
    "df.head()"
   ]
  },
  {
   "cell_type": "code",
   "execution_count": 79,
   "metadata": {},
   "outputs": [
    {
     "name": "stdout",
     "output_type": "stream",
     "text": [
      "0         -1356_0\n",
      "1      28925528_0\n",
      "2     239331354_0\n",
      "3    -240120122_0\n",
      "4         -1274_0\n",
      "Name: vehicle_lane, dtype: object\n",
      "<class 'pandas.core.series.Series'>\n"
     ]
    }
   ],
   "source": [
    "print(Y.head())\n",
    "print(type(Y))"
   ]
  },
  {
   "cell_type": "code",
   "execution_count": 80,
   "metadata": {},
   "outputs": [
    {
     "name": "stdout",
     "output_type": "stream",
     "text": [
      "<class 'pandas.core.frame.DataFrame'>\n",
      "<class 'pandas.core.frame.DataFrame'>\n"
     ]
    }
   ],
   "source": [
    "X1 = df[df.columns[0:2]]\n",
    "X2 = df[df.columns[3:]]\n",
    "print(type(X1))\n",
    "print(type(X2))"
   ]
  },
  {
   "cell_type": "code",
   "execution_count": 81,
   "metadata": {},
   "outputs": [],
   "source": [
    "X = pd.concat([X1,X2],axis=1)"
   ]
  },
  {
   "cell_type": "code",
   "execution_count": 82,
   "metadata": {},
   "outputs": [
    {
     "data": {
      "text/html": [
       "<div>\n",
       "<style scoped>\n",
       "    .dataframe tbody tr th:only-of-type {\n",
       "        vertical-align: middle;\n",
       "    }\n",
       "\n",
       "    .dataframe tbody tr th {\n",
       "        vertical-align: top;\n",
       "    }\n",
       "\n",
       "    .dataframe thead th {\n",
       "        text-align: right;\n",
       "    }\n",
       "</style>\n",
       "<table border=\"1\" class=\"dataframe\">\n",
       "  <thead>\n",
       "    <tr style=\"text-align: right;\">\n",
       "      <th></th>\n",
       "      <th>timestep_time</th>\n",
       "      <th>vehicle_slope</th>\n",
       "      <th>vehicle_angle</th>\n",
       "      <th>vehicle_type</th>\n",
       "      <th>vehicle_pos</th>\n",
       "      <th>vehicle_y</th>\n",
       "      <th>vehicle_x</th>\n",
       "      <th>vehicle_speed</th>\n",
       "      <th>vehicle_id</th>\n",
       "    </tr>\n",
       "  </thead>\n",
       "  <tbody>\n",
       "    <tr>\n",
       "      <th>0</th>\n",
       "      <td>0.0</td>\n",
       "      <td>0.0</td>\n",
       "      <td>-101.40</td>\n",
       "      <td>Bus</td>\n",
       "      <td>6.1</td>\n",
       "      <td>555.85</td>\n",
       "      <td>1588.94</td>\n",
       "      <td>0.0</td>\n",
       "      <td>BusFlowEastWest0.0</td>\n",
       "    </tr>\n",
       "    <tr>\n",
       "      <th>1</th>\n",
       "      <td>0.0</td>\n",
       "      <td>0.0</td>\n",
       "      <td>-44.63</td>\n",
       "      <td>Bus</td>\n",
       "      <td>6.1</td>\n",
       "      <td>722.81</td>\n",
       "      <td>1270.66</td>\n",
       "      <td>0.0</td>\n",
       "      <td>BusFlowNorthSouth0.0</td>\n",
       "    </tr>\n",
       "    <tr>\n",
       "      <th>2</th>\n",
       "      <td>0.0</td>\n",
       "      <td>0.0</td>\n",
       "      <td>160.22</td>\n",
       "      <td>Bus</td>\n",
       "      <td>6.1</td>\n",
       "      <td>471.48</td>\n",
       "      <td>1183.77</td>\n",
       "      <td>0.0</td>\n",
       "      <td>BusFlowSouthNorth0.0</td>\n",
       "    </tr>\n",
       "    <tr>\n",
       "      <th>3</th>\n",
       "      <td>0.0</td>\n",
       "      <td>0.0</td>\n",
       "      <td>67.65</td>\n",
       "      <td>Bus</td>\n",
       "      <td>6.1</td>\n",
       "      <td>711.28</td>\n",
       "      <td>874.23</td>\n",
       "      <td>0.0</td>\n",
       "      <td>BusFlowWestEast0.0</td>\n",
       "    </tr>\n",
       "    <tr>\n",
       "      <th>4</th>\n",
       "      <td>0.0</td>\n",
       "      <td>0.0</td>\n",
       "      <td>16.81</td>\n",
       "      <td>Vehicle</td>\n",
       "      <td>4.1</td>\n",
       "      <td>517.45</td>\n",
       "      <td>1849.76</td>\n",
       "      <td>0.0</td>\n",
       "      <td>VehicleFlowEastToNorth.0</td>\n",
       "    </tr>\n",
       "  </tbody>\n",
       "</table>\n",
       "</div>"
      ],
      "text/plain": [
       "   timestep_time  vehicle_slope  vehicle_angle vehicle_type  vehicle_pos  \\\n",
       "0            0.0            0.0        -101.40          Bus          6.1   \n",
       "1            0.0            0.0         -44.63          Bus          6.1   \n",
       "2            0.0            0.0         160.22          Bus          6.1   \n",
       "3            0.0            0.0          67.65          Bus          6.1   \n",
       "4            0.0            0.0          16.81      Vehicle          4.1   \n",
       "\n",
       "   vehicle_y  vehicle_x  vehicle_speed                vehicle_id  \n",
       "0     555.85    1588.94            0.0        BusFlowEastWest0.0  \n",
       "1     722.81    1270.66            0.0      BusFlowNorthSouth0.0  \n",
       "2     471.48    1183.77            0.0      BusFlowSouthNorth0.0  \n",
       "3     711.28     874.23            0.0        BusFlowWestEast0.0  \n",
       "4     517.45    1849.76            0.0  VehicleFlowEastToNorth.0  "
      ]
     },
     "execution_count": 82,
     "metadata": {},
     "output_type": "execute_result"
    }
   ],
   "source": [
    "X.head()"
   ]
  },
  {
   "cell_type": "code",
   "execution_count": 83,
   "metadata": {},
   "outputs": [
    {
     "name": "stdout",
     "output_type": "stream",
     "text": [
      "Index(['timestep_time', 'vehicle_slope'], dtype='object')\n"
     ]
    }
   ],
   "source": [
    "remove = X.columns[0:2]\n",
    "print(remove)"
   ]
  },
  {
   "cell_type": "code",
   "execution_count": 84,
   "metadata": {},
   "outputs": [],
   "source": [
    "X = X.drop(labels=remove,axis=1)"
   ]
  },
  {
   "cell_type": "code",
   "execution_count": 85,
   "metadata": {},
   "outputs": [
    {
     "data": {
      "text/html": [
       "<div>\n",
       "<style scoped>\n",
       "    .dataframe tbody tr th:only-of-type {\n",
       "        vertical-align: middle;\n",
       "    }\n",
       "\n",
       "    .dataframe tbody tr th {\n",
       "        vertical-align: top;\n",
       "    }\n",
       "\n",
       "    .dataframe thead th {\n",
       "        text-align: right;\n",
       "    }\n",
       "</style>\n",
       "<table border=\"1\" class=\"dataframe\">\n",
       "  <thead>\n",
       "    <tr style=\"text-align: right;\">\n",
       "      <th></th>\n",
       "      <th>vehicle_angle</th>\n",
       "      <th>vehicle_type</th>\n",
       "      <th>vehicle_pos</th>\n",
       "      <th>vehicle_y</th>\n",
       "      <th>vehicle_x</th>\n",
       "      <th>vehicle_speed</th>\n",
       "      <th>vehicle_id</th>\n",
       "    </tr>\n",
       "  </thead>\n",
       "  <tbody>\n",
       "    <tr>\n",
       "      <th>0</th>\n",
       "      <td>-101.40</td>\n",
       "      <td>Bus</td>\n",
       "      <td>6.1</td>\n",
       "      <td>555.85</td>\n",
       "      <td>1588.94</td>\n",
       "      <td>0.0</td>\n",
       "      <td>BusFlowEastWest0.0</td>\n",
       "    </tr>\n",
       "    <tr>\n",
       "      <th>1</th>\n",
       "      <td>-44.63</td>\n",
       "      <td>Bus</td>\n",
       "      <td>6.1</td>\n",
       "      <td>722.81</td>\n",
       "      <td>1270.66</td>\n",
       "      <td>0.0</td>\n",
       "      <td>BusFlowNorthSouth0.0</td>\n",
       "    </tr>\n",
       "    <tr>\n",
       "      <th>2</th>\n",
       "      <td>160.22</td>\n",
       "      <td>Bus</td>\n",
       "      <td>6.1</td>\n",
       "      <td>471.48</td>\n",
       "      <td>1183.77</td>\n",
       "      <td>0.0</td>\n",
       "      <td>BusFlowSouthNorth0.0</td>\n",
       "    </tr>\n",
       "    <tr>\n",
       "      <th>3</th>\n",
       "      <td>67.65</td>\n",
       "      <td>Bus</td>\n",
       "      <td>6.1</td>\n",
       "      <td>711.28</td>\n",
       "      <td>874.23</td>\n",
       "      <td>0.0</td>\n",
       "      <td>BusFlowWestEast0.0</td>\n",
       "    </tr>\n",
       "    <tr>\n",
       "      <th>4</th>\n",
       "      <td>16.81</td>\n",
       "      <td>Vehicle</td>\n",
       "      <td>4.1</td>\n",
       "      <td>517.45</td>\n",
       "      <td>1849.76</td>\n",
       "      <td>0.0</td>\n",
       "      <td>VehicleFlowEastToNorth.0</td>\n",
       "    </tr>\n",
       "    <tr>\n",
       "      <th>5</th>\n",
       "      <td>-93.35</td>\n",
       "      <td>Vehicle</td>\n",
       "      <td>4.1</td>\n",
       "      <td>420.70</td>\n",
       "      <td>1853.89</td>\n",
       "      <td>0.0</td>\n",
       "      <td>VehicleFlowEastToWest_0.0</td>\n",
       "    </tr>\n",
       "    <tr>\n",
       "      <th>6</th>\n",
       "      <td>-45.05</td>\n",
       "      <td>Vehicle</td>\n",
       "      <td>4.1</td>\n",
       "      <td>759.18</td>\n",
       "      <td>2349.98</td>\n",
       "      <td>0.0</td>\n",
       "      <td>VehicleFlowEastToWest_1.0</td>\n",
       "    </tr>\n",
       "    <tr>\n",
       "      <th>7</th>\n",
       "      <td>18.54</td>\n",
       "      <td>Vehicle</td>\n",
       "      <td>4.1</td>\n",
       "      <td>1044.08</td>\n",
       "      <td>599.52</td>\n",
       "      <td>0.0</td>\n",
       "      <td>VehicleFlowWestToEast.0</td>\n",
       "    </tr>\n",
       "    <tr>\n",
       "      <th>8</th>\n",
       "      <td>71.40</td>\n",
       "      <td>Vehicle</td>\n",
       "      <td>4.1</td>\n",
       "      <td>681.40</td>\n",
       "      <td>984.27</td>\n",
       "      <td>0.0</td>\n",
       "      <td>VehicleFlowWestToEast_0.0</td>\n",
       "    </tr>\n",
       "    <tr>\n",
       "      <th>9</th>\n",
       "      <td>58.74</td>\n",
       "      <td>Vehicle</td>\n",
       "      <td>4.1</td>\n",
       "      <td>778.93</td>\n",
       "      <td>734.83</td>\n",
       "      <td>0.0</td>\n",
       "      <td>VehicleFlowWestToSouth.0</td>\n",
       "    </tr>\n",
       "  </tbody>\n",
       "</table>\n",
       "</div>"
      ],
      "text/plain": [
       "   vehicle_angle vehicle_type  vehicle_pos  vehicle_y  vehicle_x  \\\n",
       "0        -101.40          Bus          6.1     555.85    1588.94   \n",
       "1         -44.63          Bus          6.1     722.81    1270.66   \n",
       "2         160.22          Bus          6.1     471.48    1183.77   \n",
       "3          67.65          Bus          6.1     711.28     874.23   \n",
       "4          16.81      Vehicle          4.1     517.45    1849.76   \n",
       "5         -93.35      Vehicle          4.1     420.70    1853.89   \n",
       "6         -45.05      Vehicle          4.1     759.18    2349.98   \n",
       "7          18.54      Vehicle          4.1    1044.08     599.52   \n",
       "8          71.40      Vehicle          4.1     681.40     984.27   \n",
       "9          58.74      Vehicle          4.1     778.93     734.83   \n",
       "\n",
       "   vehicle_speed                 vehicle_id  \n",
       "0            0.0         BusFlowEastWest0.0  \n",
       "1            0.0       BusFlowNorthSouth0.0  \n",
       "2            0.0       BusFlowSouthNorth0.0  \n",
       "3            0.0         BusFlowWestEast0.0  \n",
       "4            0.0   VehicleFlowEastToNorth.0  \n",
       "5            0.0  VehicleFlowEastToWest_0.0  \n",
       "6            0.0  VehicleFlowEastToWest_1.0  \n",
       "7            0.0    VehicleFlowWestToEast.0  \n",
       "8            0.0  VehicleFlowWestToEast_0.0  \n",
       "9            0.0   VehicleFlowWestToSouth.0  "
      ]
     },
     "execution_count": 85,
     "metadata": {},
     "output_type": "execute_result"
    }
   ],
   "source": [
    "X.head(10)"
   ]
  },
  {
   "cell_type": "code",
   "execution_count": 86,
   "metadata": {},
   "outputs": [
    {
     "data": {
      "text/plain": [
       "5104"
      ]
     },
     "execution_count": 86,
     "metadata": {},
     "output_type": "execute_result"
    }
   ],
   "source": [
    "len(X.vehicle_id.unique())"
   ]
  },
  {
   "cell_type": "code",
   "execution_count": 87,
   "metadata": {},
   "outputs": [],
   "source": [
    "Y = pd.DataFrame(data=Y,columns=['vehicle_lane'])"
   ]
  },
  {
   "cell_type": "code",
   "execution_count": 88,
   "metadata": {},
   "outputs": [
    {
     "data": {
      "text/plain": [
       "pandas.core.frame.DataFrame"
      ]
     },
     "execution_count": 88,
     "metadata": {},
     "output_type": "execute_result"
    }
   ],
   "source": [
    "type(Y)"
   ]
  },
  {
   "cell_type": "code",
   "execution_count": 89,
   "metadata": {},
   "outputs": [
    {
     "data": {
      "text/html": [
       "<div>\n",
       "<style scoped>\n",
       "    .dataframe tbody tr th:only-of-type {\n",
       "        vertical-align: middle;\n",
       "    }\n",
       "\n",
       "    .dataframe tbody tr th {\n",
       "        vertical-align: top;\n",
       "    }\n",
       "\n",
       "    .dataframe thead th {\n",
       "        text-align: right;\n",
       "    }\n",
       "</style>\n",
       "<table border=\"1\" class=\"dataframe\">\n",
       "  <thead>\n",
       "    <tr style=\"text-align: right;\">\n",
       "      <th></th>\n",
       "      <th>vehicle_lane</th>\n",
       "    </tr>\n",
       "  </thead>\n",
       "  <tbody>\n",
       "    <tr>\n",
       "      <th>0</th>\n",
       "      <td>-1356_0</td>\n",
       "    </tr>\n",
       "    <tr>\n",
       "      <th>1</th>\n",
       "      <td>28925528_0</td>\n",
       "    </tr>\n",
       "    <tr>\n",
       "      <th>2</th>\n",
       "      <td>239331354_0</td>\n",
       "    </tr>\n",
       "    <tr>\n",
       "      <th>3</th>\n",
       "      <td>-240120122_0</td>\n",
       "    </tr>\n",
       "    <tr>\n",
       "      <th>4</th>\n",
       "      <td>-1274_0</td>\n",
       "    </tr>\n",
       "  </tbody>\n",
       "</table>\n",
       "</div>"
      ],
      "text/plain": [
       "   vehicle_lane\n",
       "0       -1356_0\n",
       "1    28925528_0\n",
       "2   239331354_0\n",
       "3  -240120122_0\n",
       "4       -1274_0"
      ]
     },
     "execution_count": 89,
     "metadata": {},
     "output_type": "execute_result"
    }
   ],
   "source": [
    "Y.head()"
   ]
  },
  {
   "cell_type": "code",
   "execution_count": 90,
   "metadata": {},
   "outputs": [
    {
     "data": {
      "text/plain": [
       "209"
      ]
     },
     "execution_count": 90,
     "metadata": {},
     "output_type": "execute_result"
    }
   ],
   "source": [
    "len(Y.vehicle_lane.unique()) ## 209 unique lanes exist"
   ]
  },
  {
   "cell_type": "code",
   "execution_count": 91,
   "metadata": {},
   "outputs": [
    {
     "name": "stdout",
     "output_type": "stream",
     "text": [
      "962721\n"
     ]
    }
   ],
   "source": [
    "print(len(Y))"
   ]
  },
  {
   "cell_type": "code",
   "execution_count": 92,
   "metadata": {},
   "outputs": [
    {
     "data": {
      "text/html": [
       "<div>\n",
       "<style scoped>\n",
       "    .dataframe tbody tr th:only-of-type {\n",
       "        vertical-align: middle;\n",
       "    }\n",
       "\n",
       "    .dataframe tbody tr th {\n",
       "        vertical-align: top;\n",
       "    }\n",
       "\n",
       "    .dataframe thead th {\n",
       "        text-align: right;\n",
       "    }\n",
       "</style>\n",
       "<table border=\"1\" class=\"dataframe\">\n",
       "  <thead>\n",
       "    <tr style=\"text-align: right;\">\n",
       "      <th></th>\n",
       "      <th>vehicle_lane</th>\n",
       "    </tr>\n",
       "  </thead>\n",
       "  <tbody>\n",
       "    <tr>\n",
       "      <th>0</th>\n",
       "      <td>-1356_0</td>\n",
       "    </tr>\n",
       "    <tr>\n",
       "      <th>1</th>\n",
       "      <td>28925528_0</td>\n",
       "    </tr>\n",
       "    <tr>\n",
       "      <th>2</th>\n",
       "      <td>239331354_0</td>\n",
       "    </tr>\n",
       "    <tr>\n",
       "      <th>3</th>\n",
       "      <td>-240120122_0</td>\n",
       "    </tr>\n",
       "    <tr>\n",
       "      <th>4</th>\n",
       "      <td>-1274_0</td>\n",
       "    </tr>\n",
       "    <tr>\n",
       "      <th>5</th>\n",
       "      <td>-1354_0</td>\n",
       "    </tr>\n",
       "    <tr>\n",
       "      <th>6</th>\n",
       "      <td>-1280#0_0</td>\n",
       "    </tr>\n",
       "    <tr>\n",
       "      <th>7</th>\n",
       "      <td>-1328#0_0</td>\n",
       "    </tr>\n",
       "    <tr>\n",
       "      <th>8</th>\n",
       "      <td>229259796#0_0</td>\n",
       "    </tr>\n",
       "    <tr>\n",
       "      <th>9</th>\n",
       "      <td>-1324_0</td>\n",
       "    </tr>\n",
       "  </tbody>\n",
       "</table>\n",
       "</div>"
      ],
      "text/plain": [
       "    vehicle_lane\n",
       "0        -1356_0\n",
       "1     28925528_0\n",
       "2    239331354_0\n",
       "3   -240120122_0\n",
       "4        -1274_0\n",
       "5        -1354_0\n",
       "6      -1280#0_0\n",
       "7      -1328#0_0\n",
       "8  229259796#0_0\n",
       "9        -1324_0"
      ]
     },
     "execution_count": 92,
     "metadata": {},
     "output_type": "execute_result"
    }
   ],
   "source": [
    "Y.head(10)"
   ]
  },
  {
   "cell_type": "code",
   "execution_count": 175,
   "metadata": {},
   "outputs": [
    {
     "data": {
      "text/plain": [
       "pandas.core.frame.DataFrame"
      ]
     },
     "execution_count": 175,
     "metadata": {},
     "output_type": "execute_result"
    }
   ],
   "source": [
    "X.columns\n",
    "type(X)"
   ]
  },
  {
   "cell_type": "code",
   "execution_count": 94,
   "metadata": {},
   "outputs": [
    {
     "name": "stdout",
     "output_type": "stream",
     "text": [
      "vehicle_angle    float64\n",
      "vehicle_type      object\n",
      "vehicle_pos      float64\n",
      "vehicle_y        float64\n",
      "vehicle_x        float64\n",
      "vehicle_speed    float64\n",
      "vehicle_id        object\n",
      "dtype: object\n"
     ]
    }
   ],
   "source": [
    "print(X.dtypes)"
   ]
  },
  {
   "cell_type": "code",
   "execution_count": 95,
   "metadata": {},
   "outputs": [],
   "source": [
    "boolean_masking = X.dtypes == object \n",
    "## boolean masking"
   ]
  },
  {
   "cell_type": "code",
   "execution_count": 96,
   "metadata": {},
   "outputs": [
    {
     "name": "stdout",
     "output_type": "stream",
     "text": [
      "vehicle_angle    False\n",
      "vehicle_type      True\n",
      "vehicle_pos      False\n",
      "vehicle_y        False\n",
      "vehicle_x        False\n",
      "vehicle_speed    False\n",
      "vehicle_id        True\n",
      "dtype: bool\n"
     ]
    }
   ],
   "source": [
    "print(boolean_masking)"
   ]
  },
  {
   "cell_type": "code",
   "execution_count": 97,
   "metadata": {},
   "outputs": [],
   "source": [
    "categorical_columns = X.columns[boolean_masking].tolist()\n",
    "## converts a list of True and False to a a list of column names matching the index of True with with \n",
    "## its respective column name and also converts it into a list"
   ]
  },
  {
   "cell_type": "code",
   "execution_count": 98,
   "metadata": {},
   "outputs": [
    {
     "name": "stdout",
     "output_type": "stream",
     "text": [
      "['vehicle_type', 'vehicle_id']\n"
     ]
    }
   ],
   "source": [
    "print(categorical_columns)"
   ]
  },
  {
   "cell_type": "code",
   "execution_count": 41,
   "metadata": {},
   "outputs": [],
   "source": [
    "from sklearn.preprocessing import LabelEncoder"
   ]
  },
  {
   "cell_type": "code",
   "execution_count": 42,
   "metadata": {},
   "outputs": [],
   "source": [
    "le1 = LabelEncoder()\n",
    "le2 = LabelEncoder()"
   ]
  },
  {
   "cell_type": "code",
   "execution_count": 43,
   "metadata": {},
   "outputs": [
    {
     "name": "stdout",
     "output_type": "stream",
     "text": [
      "(962719, 7)\n"
     ]
    }
   ],
   "source": [
    "print(X.shape)"
   ]
  },
  {
   "cell_type": "code",
   "execution_count": 44,
   "metadata": {},
   "outputs": [
    {
     "name": "stdout",
     "output_type": "stream",
     "text": [
      "(962719, 7)\n"
     ]
    }
   ],
   "source": [
    "print(X.shape)"
   ]
  },
  {
   "cell_type": "code",
   "execution_count": 45,
   "metadata": {},
   "outputs": [],
   "source": [
    "X[categorical_columns[0]].dropna(inplace=True)"
   ]
  },
  {
   "cell_type": "code",
   "execution_count": 46,
   "metadata": {},
   "outputs": [
    {
     "name": "stdout",
     "output_type": "stream",
     "text": [
      "962719\n"
     ]
    }
   ],
   "source": [
    "print(len(X[categorical_columns[0]]))"
   ]
  },
  {
   "cell_type": "code",
   "execution_count": 47,
   "metadata": {},
   "outputs": [
    {
     "data": {
      "text/plain": [
       "LabelEncoder()"
      ]
     },
     "execution_count": 47,
     "metadata": {},
     "output_type": "execute_result"
    }
   ],
   "source": [
    "le1.fit(X[categorical_columns[0]])"
   ]
  },
  {
   "cell_type": "code",
   "execution_count": 48,
   "metadata": {},
   "outputs": [
    {
     "data": {
      "text/plain": [
       "array(['Bus', 'Vehicle'], dtype=object)"
      ]
     },
     "execution_count": 48,
     "metadata": {},
     "output_type": "execute_result"
    }
   ],
   "source": [
    "le1.classes_"
   ]
  },
  {
   "cell_type": "code",
   "execution_count": 49,
   "metadata": {},
   "outputs": [
    {
     "data": {
      "text/plain": [
       "962719"
      ]
     },
     "execution_count": 49,
     "metadata": {},
     "output_type": "execute_result"
    }
   ],
   "source": [
    "len(le1.transform(X[categorical_columns[0]]))"
   ]
  },
  {
   "cell_type": "code",
   "execution_count": 50,
   "metadata": {},
   "outputs": [
    {
     "data": {
      "text/plain": [
       "LabelEncoder()"
      ]
     },
     "execution_count": 50,
     "metadata": {},
     "output_type": "execute_result"
    }
   ],
   "source": [
    "le2.fit(X[categorical_columns[1]])"
   ]
  },
  {
   "cell_type": "code",
   "execution_count": 51,
   "metadata": {},
   "outputs": [
    {
     "data": {
      "text/plain": [
       "array(['BusFlowEastWest.0', 'BusFlowEastWest.1', 'BusFlowEastWest.2', ...,\n",
       "       'VehicleFlowWestToWest2.0', 'VehicleFlowWestToWest6.0',\n",
       "       'VehicleFlowWestToWest6.1'], dtype=object)"
      ]
     },
     "execution_count": 51,
     "metadata": {},
     "output_type": "execute_result"
    }
   ],
   "source": [
    "le2.classes_"
   ]
  },
  {
   "cell_type": "code",
   "execution_count": 56,
   "metadata": {},
   "outputs": [
    {
     "data": {
      "text/plain": [
       "962719"
      ]
     },
     "execution_count": 56,
     "metadata": {},
     "output_type": "execute_result"
    }
   ],
   "source": [
    "len(le2.transform(X[categorical_columns[1]]))"
   ]
  },
  {
   "cell_type": "code",
   "execution_count": 57,
   "metadata": {},
   "outputs": [],
   "source": [
    "numerical_data1 = pd.DataFrame(data=le1.transform(X[categorical_columns[0]]),columns=['vehicle_type'])\n",
    "numerical_data2 = pd.DataFrame(data=le2.transform(X[categorical_columns[1]]),columns=['vehicle_id'])"
   ]
  },
  {
   "cell_type": "code",
   "execution_count": 58,
   "metadata": {},
   "outputs": [
    {
     "name": "stdout",
     "output_type": "stream",
     "text": [
      "<class 'pandas.core.frame.DataFrame'>\n"
     ]
    }
   ],
   "source": [
    "print(type(numerical_data1))"
   ]
  },
  {
   "cell_type": "code",
   "execution_count": 59,
   "metadata": {},
   "outputs": [
    {
     "data": {
      "text/html": [
       "<div>\n",
       "<style scoped>\n",
       "    .dataframe tbody tr th:only-of-type {\n",
       "        vertical-align: middle;\n",
       "    }\n",
       "\n",
       "    .dataframe tbody tr th {\n",
       "        vertical-align: top;\n",
       "    }\n",
       "\n",
       "    .dataframe thead th {\n",
       "        text-align: right;\n",
       "    }\n",
       "</style>\n",
       "<table border=\"1\" class=\"dataframe\">\n",
       "  <thead>\n",
       "    <tr style=\"text-align: right;\">\n",
       "      <th></th>\n",
       "      <th>vehicle_id</th>\n",
       "    </tr>\n",
       "  </thead>\n",
       "  <tbody>\n",
       "    <tr>\n",
       "      <th>0</th>\n",
       "      <td>4822</td>\n",
       "    </tr>\n",
       "    <tr>\n",
       "      <th>1</th>\n",
       "      <td>1063</td>\n",
       "    </tr>\n",
       "    <tr>\n",
       "      <th>2</th>\n",
       "      <td>2481</td>\n",
       "    </tr>\n",
       "    <tr>\n",
       "      <th>3</th>\n",
       "      <td>1995</td>\n",
       "    </tr>\n",
       "    <tr>\n",
       "      <th>4</th>\n",
       "      <td>2733</td>\n",
       "    </tr>\n",
       "  </tbody>\n",
       "</table>\n",
       "</div>"
      ],
      "text/plain": [
       "   vehicle_id\n",
       "0        4822\n",
       "1        1063\n",
       "2        2481\n",
       "3        1995\n",
       "4        2733"
      ]
     },
     "execution_count": 59,
     "metadata": {},
     "output_type": "execute_result"
    }
   ],
   "source": [
    "numerical_data2.head()"
   ]
  },
  {
   "cell_type": "code",
   "execution_count": 60,
   "metadata": {},
   "outputs": [],
   "source": [
    "X[categorical_columns[0]] = numerical_data1"
   ]
  },
  {
   "cell_type": "code",
   "execution_count": 61,
   "metadata": {},
   "outputs": [],
   "source": [
    "X[categorical_columns[1]] = numerical_data2"
   ]
  },
  {
   "cell_type": "code",
   "execution_count": 62,
   "metadata": {},
   "outputs": [
    {
     "data": {
      "text/html": [
       "<div>\n",
       "<style scoped>\n",
       "    .dataframe tbody tr th:only-of-type {\n",
       "        vertical-align: middle;\n",
       "    }\n",
       "\n",
       "    .dataframe tbody tr th {\n",
       "        vertical-align: top;\n",
       "    }\n",
       "\n",
       "    .dataframe thead th {\n",
       "        text-align: right;\n",
       "    }\n",
       "</style>\n",
       "<table border=\"1\" class=\"dataframe\">\n",
       "  <thead>\n",
       "    <tr style=\"text-align: right;\">\n",
       "      <th></th>\n",
       "      <th>vehicle_angle</th>\n",
       "      <th>vehicle_type</th>\n",
       "      <th>vehicle_pos</th>\n",
       "      <th>vehicle_y</th>\n",
       "      <th>vehicle_x</th>\n",
       "      <th>vehicle_speed</th>\n",
       "      <th>vehicle_id</th>\n",
       "    </tr>\n",
       "  </thead>\n",
       "  <tbody>\n",
       "    <tr>\n",
       "      <th>475320</th>\n",
       "      <td>66.36</td>\n",
       "      <td>1</td>\n",
       "      <td>13.00</td>\n",
       "      <td>616.02</td>\n",
       "      <td>1175.12</td>\n",
       "      <td>6.36</td>\n",
       "      <td>3568</td>\n",
       "    </tr>\n",
       "    <tr>\n",
       "      <th>862742</th>\n",
       "      <td>-132.31</td>\n",
       "      <td>1</td>\n",
       "      <td>621.52</td>\n",
       "      <td>591.96</td>\n",
       "      <td>1266.92</td>\n",
       "      <td>0.00</td>\n",
       "      <td>2320</td>\n",
       "    </tr>\n",
       "    <tr>\n",
       "      <th>688040</th>\n",
       "      <td>102.28</td>\n",
       "      <td>1</td>\n",
       "      <td>575.72</td>\n",
       "      <td>381.22</td>\n",
       "      <td>1790.81</td>\n",
       "      <td>4.16</td>\n",
       "      <td>2061</td>\n",
       "    </tr>\n",
       "    <tr>\n",
       "      <th>218014</th>\n",
       "      <td>-44.77</td>\n",
       "      <td>1</td>\n",
       "      <td>27.00</td>\n",
       "      <td>829.65</td>\n",
       "      <td>1374.56</td>\n",
       "      <td>21.58</td>\n",
       "      <td>4126</td>\n",
       "    </tr>\n",
       "    <tr>\n",
       "      <th>554549</th>\n",
       "      <td>-161.19</td>\n",
       "      <td>1</td>\n",
       "      <td>82.91</td>\n",
       "      <td>273.80</td>\n",
       "      <td>904.22</td>\n",
       "      <td>20.24</td>\n",
       "      <td>3315</td>\n",
       "    </tr>\n",
       "    <tr>\n",
       "      <th>356209</th>\n",
       "      <td>86.92</td>\n",
       "      <td>1</td>\n",
       "      <td>1.64</td>\n",
       "      <td>599.00</td>\n",
       "      <td>1248.06</td>\n",
       "      <td>2.65</td>\n",
       "      <td>4386</td>\n",
       "    </tr>\n",
       "    <tr>\n",
       "      <th>130824</th>\n",
       "      <td>103.30</td>\n",
       "      <td>1</td>\n",
       "      <td>7.05</td>\n",
       "      <td>406.21</td>\n",
       "      <td>1874.70</td>\n",
       "      <td>4.32</td>\n",
       "      <td>3956</td>\n",
       "    </tr>\n",
       "    <tr>\n",
       "      <th>115459</th>\n",
       "      <td>51.48</td>\n",
       "      <td>1</td>\n",
       "      <td>1.52</td>\n",
       "      <td>581.29</td>\n",
       "      <td>1211.60</td>\n",
       "      <td>0.00</td>\n",
       "      <td>1707</td>\n",
       "    </tr>\n",
       "    <tr>\n",
       "      <th>925388</th>\n",
       "      <td>71.40</td>\n",
       "      <td>1</td>\n",
       "      <td>10.20</td>\n",
       "      <td>679.46</td>\n",
       "      <td>990.05</td>\n",
       "      <td>4.25</td>\n",
       "      <td>1574</td>\n",
       "    </tr>\n",
       "    <tr>\n",
       "      <th>899287</th>\n",
       "      <td>75.54</td>\n",
       "      <td>1</td>\n",
       "      <td>6.97</td>\n",
       "      <td>582.32</td>\n",
       "      <td>1218.41</td>\n",
       "      <td>0.09</td>\n",
       "      <td>5003</td>\n",
       "    </tr>\n",
       "    <tr>\n",
       "      <th>908421</th>\n",
       "      <td>119.13</td>\n",
       "      <td>1</td>\n",
       "      <td>5.51</td>\n",
       "      <td>417.26</td>\n",
       "      <td>1893.36</td>\n",
       "      <td>12.23</td>\n",
       "      <td>931</td>\n",
       "    </tr>\n",
       "    <tr>\n",
       "      <th>256170</th>\n",
       "      <td>97.78</td>\n",
       "      <td>1</td>\n",
       "      <td>4.80</td>\n",
       "      <td>578.22</td>\n",
       "      <td>1233.56</td>\n",
       "      <td>0.85</td>\n",
       "      <td>3076</td>\n",
       "    </tr>\n",
       "    <tr>\n",
       "      <th>564804</th>\n",
       "      <td>-109.92</td>\n",
       "      <td>1</td>\n",
       "      <td>7.30</td>\n",
       "      <td>700.12</td>\n",
       "      <td>974.24</td>\n",
       "      <td>12.47</td>\n",
       "      <td>251</td>\n",
       "    </tr>\n",
       "    <tr>\n",
       "      <th>115551</th>\n",
       "      <td>175.33</td>\n",
       "      <td>1</td>\n",
       "      <td>1.54</td>\n",
       "      <td>607.25</td>\n",
       "      <td>1258.29</td>\n",
       "      <td>8.98</td>\n",
       "      <td>3388</td>\n",
       "    </tr>\n",
       "    <tr>\n",
       "      <th>814431</th>\n",
       "      <td>113.62</td>\n",
       "      <td>1</td>\n",
       "      <td>621.54</td>\n",
       "      <td>394.68</td>\n",
       "      <td>1834.34</td>\n",
       "      <td>1.35</td>\n",
       "      <td>4147</td>\n",
       "    </tr>\n",
       "    <tr>\n",
       "      <th>246384</th>\n",
       "      <td>-69.39</td>\n",
       "      <td>1</td>\n",
       "      <td>19.47</td>\n",
       "      <td>406.37</td>\n",
       "      <td>1127.64</td>\n",
       "      <td>20.57</td>\n",
       "      <td>4538</td>\n",
       "    </tr>\n",
       "    <tr>\n",
       "      <th>381056</th>\n",
       "      <td>71.41</td>\n",
       "      <td>1</td>\n",
       "      <td>186.76</td>\n",
       "      <td>626.28</td>\n",
       "      <td>1158.44</td>\n",
       "      <td>0.00</td>\n",
       "      <td>279</td>\n",
       "    </tr>\n",
       "    <tr>\n",
       "      <th>58397</th>\n",
       "      <td>58.73</td>\n",
       "      <td>1</td>\n",
       "      <td>23.78</td>\n",
       "      <td>610.65</td>\n",
       "      <td>1183.98</td>\n",
       "      <td>0.00</td>\n",
       "      <td>3199</td>\n",
       "    </tr>\n",
       "    <tr>\n",
       "      <th>58576</th>\n",
       "      <td>22.52</td>\n",
       "      <td>1</td>\n",
       "      <td>96.89</td>\n",
       "      <td>957.38</td>\n",
       "      <td>632.43</td>\n",
       "      <td>13.29</td>\n",
       "      <td>1700</td>\n",
       "    </tr>\n",
       "    <tr>\n",
       "      <th>743091</th>\n",
       "      <td>-132.31</td>\n",
       "      <td>1</td>\n",
       "      <td>621.52</td>\n",
       "      <td>588.93</td>\n",
       "      <td>1265.33</td>\n",
       "      <td>0.01</td>\n",
       "      <td>3861</td>\n",
       "    </tr>\n",
       "    <tr>\n",
       "      <th>697240</th>\n",
       "      <td>-108.69</td>\n",
       "      <td>1</td>\n",
       "      <td>22.01</td>\n",
       "      <td>643.35</td>\n",
       "      <td>1151.84</td>\n",
       "      <td>11.67</td>\n",
       "      <td>1365</td>\n",
       "    </tr>\n",
       "    <tr>\n",
       "      <th>79294</th>\n",
       "      <td>74.26</td>\n",
       "      <td>1</td>\n",
       "      <td>461.67</td>\n",
       "      <td>391.28</td>\n",
       "      <td>1679.38</td>\n",
       "      <td>2.47</td>\n",
       "      <td>518</td>\n",
       "    </tr>\n",
       "    <tr>\n",
       "      <th>587203</th>\n",
       "      <td>160.22</td>\n",
       "      <td>1</td>\n",
       "      <td>91.67</td>\n",
       "      <td>551.78</td>\n",
       "      <td>1212.64</td>\n",
       "      <td>0.52</td>\n",
       "      <td>1846</td>\n",
       "    </tr>\n",
       "    <tr>\n",
       "      <th>109991</th>\n",
       "      <td>18.54</td>\n",
       "      <td>1</td>\n",
       "      <td>4.10</td>\n",
       "      <td>1044.08</td>\n",
       "      <td>599.52</td>\n",
       "      <td>0.00</td>\n",
       "      <td>740</td>\n",
       "    </tr>\n",
       "    <tr>\n",
       "      <th>912530</th>\n",
       "      <td>71.40</td>\n",
       "      <td>1</td>\n",
       "      <td>186.76</td>\n",
       "      <td>623.15</td>\n",
       "      <td>1157.39</td>\n",
       "      <td>0.00</td>\n",
       "      <td>4099</td>\n",
       "    </tr>\n",
       "    <tr>\n",
       "      <th>449721</th>\n",
       "      <td>-18.22</td>\n",
       "      <td>1</td>\n",
       "      <td>52.58</td>\n",
       "      <td>683.51</td>\n",
       "      <td>1246.75</td>\n",
       "      <td>13.74</td>\n",
       "      <td>4335</td>\n",
       "    </tr>\n",
       "    <tr>\n",
       "      <th>1947</th>\n",
       "      <td>71.41</td>\n",
       "      <td>1</td>\n",
       "      <td>186.76</td>\n",
       "      <td>629.41</td>\n",
       "      <td>1159.50</td>\n",
       "      <td>0.00</td>\n",
       "      <td>3779</td>\n",
       "    </tr>\n",
       "    <tr>\n",
       "      <th>363795</th>\n",
       "      <td>-109.26</td>\n",
       "      <td>1</td>\n",
       "      <td>316.13</td>\n",
       "      <td>484.10</td>\n",
       "      <td>1550.67</td>\n",
       "      <td>13.57</td>\n",
       "      <td>4125</td>\n",
       "    </tr>\n",
       "    <tr>\n",
       "      <th>583653</th>\n",
       "      <td>97.78</td>\n",
       "      <td>1</td>\n",
       "      <td>5.06</td>\n",
       "      <td>578.26</td>\n",
       "      <td>1233.84</td>\n",
       "      <td>0.00</td>\n",
       "      <td>508</td>\n",
       "    </tr>\n",
       "    <tr>\n",
       "      <th>432952</th>\n",
       "      <td>-100.83</td>\n",
       "      <td>1</td>\n",
       "      <td>178.86</td>\n",
       "      <td>443.60</td>\n",
       "      <td>1681.39</td>\n",
       "      <td>13.87</td>\n",
       "      <td>901</td>\n",
       "    </tr>\n",
       "    <tr>\n",
       "      <th>666494</th>\n",
       "      <td>130.33</td>\n",
       "      <td>1</td>\n",
       "      <td>127.42</td>\n",
       "      <td>485.68</td>\n",
       "      <td>1993.22</td>\n",
       "      <td>12.56</td>\n",
       "      <td>3793</td>\n",
       "    </tr>\n",
       "    <tr>\n",
       "      <th>834121</th>\n",
       "      <td>124.43</td>\n",
       "      <td>1</td>\n",
       "      <td>213.13</td>\n",
       "      <td>536.74</td>\n",
       "      <td>2062.04</td>\n",
       "      <td>12.84</td>\n",
       "      <td>2631</td>\n",
       "    </tr>\n",
       "    <tr>\n",
       "      <th>684523</th>\n",
       "      <td>-142.39</td>\n",
       "      <td>1</td>\n",
       "      <td>143.75</td>\n",
       "      <td>832.88</td>\n",
       "      <td>719.40</td>\n",
       "      <td>24.63</td>\n",
       "      <td>1625</td>\n",
       "    </tr>\n",
       "    <tr>\n",
       "      <th>49131</th>\n",
       "      <td>75.46</td>\n",
       "      <td>1</td>\n",
       "      <td>7.02</td>\n",
       "      <td>579.15</td>\n",
       "      <td>1217.48</td>\n",
       "      <td>0.00</td>\n",
       "      <td>1889</td>\n",
       "    </tr>\n",
       "    <tr>\n",
       "      <th>856923</th>\n",
       "      <td>71.40</td>\n",
       "      <td>1</td>\n",
       "      <td>55.77</td>\n",
       "      <td>664.92</td>\n",
       "      <td>1033.24</td>\n",
       "      <td>12.90</td>\n",
       "      <td>4987</td>\n",
       "    </tr>\n",
       "    <tr>\n",
       "      <th>146701</th>\n",
       "      <td>69.17</td>\n",
       "      <td>1</td>\n",
       "      <td>239.33</td>\n",
       "      <td>694.30</td>\n",
       "      <td>954.40</td>\n",
       "      <td>13.50</td>\n",
       "      <td>2985</td>\n",
       "    </tr>\n",
       "    <tr>\n",
       "      <th>76386</th>\n",
       "      <td>135.61</td>\n",
       "      <td>1</td>\n",
       "      <td>22.71</td>\n",
       "      <td>869.92</td>\n",
       "      <td>1418.91</td>\n",
       "      <td>21.16</td>\n",
       "      <td>4386</td>\n",
       "    </tr>\n",
       "    <tr>\n",
       "      <th>186705</th>\n",
       "      <td>134.45</td>\n",
       "      <td>1</td>\n",
       "      <td>96.91</td>\n",
       "      <td>954.76</td>\n",
       "      <td>1502.49</td>\n",
       "      <td>21.88</td>\n",
       "      <td>709</td>\n",
       "    </tr>\n",
       "    <tr>\n",
       "      <th>220045</th>\n",
       "      <td>71.41</td>\n",
       "      <td>1</td>\n",
       "      <td>192.26</td>\n",
       "      <td>627.66</td>\n",
       "      <td>1164.71</td>\n",
       "      <td>0.00</td>\n",
       "      <td>4016</td>\n",
       "    </tr>\n",
       "    <tr>\n",
       "      <th>369669</th>\n",
       "      <td>74.26</td>\n",
       "      <td>1</td>\n",
       "      <td>477.29</td>\n",
       "      <td>383.54</td>\n",
       "      <td>1694.68</td>\n",
       "      <td>13.74</td>\n",
       "      <td>4538</td>\n",
       "    </tr>\n",
       "    <tr>\n",
       "      <th>791156</th>\n",
       "      <td>-162.87</td>\n",
       "      <td>1</td>\n",
       "      <td>0.46</td>\n",
       "      <td>1057.17</td>\n",
       "      <td>607.12</td>\n",
       "      <td>23.37</td>\n",
       "      <td>5036</td>\n",
       "    </tr>\n",
       "    <tr>\n",
       "      <th>219830</th>\n",
       "      <td>58.88</td>\n",
       "      <td>1</td>\n",
       "      <td>23.78</td>\n",
       "      <td>613.21</td>\n",
       "      <td>1186.11</td>\n",
       "      <td>0.00</td>\n",
       "      <td>2471</td>\n",
       "    </tr>\n",
       "    <tr>\n",
       "      <th>801039</th>\n",
       "      <td>110.58</td>\n",
       "      <td>1</td>\n",
       "      <td>85.89</td>\n",
       "      <td>345.11</td>\n",
       "      <td>973.93</td>\n",
       "      <td>21.63</td>\n",
       "      <td>3057</td>\n",
       "    </tr>\n",
       "    <tr>\n",
       "      <th>906087</th>\n",
       "      <td>113.62</td>\n",
       "      <td>1</td>\n",
       "      <td>615.64</td>\n",
       "      <td>392.33</td>\n",
       "      <td>1828.96</td>\n",
       "      <td>1.41</td>\n",
       "      <td>1282</td>\n",
       "    </tr>\n",
       "    <tr>\n",
       "      <th>41296</th>\n",
       "      <td>-142.98</td>\n",
       "      <td>1</td>\n",
       "      <td>191.39</td>\n",
       "      <td>868.67</td>\n",
       "      <td>688.15</td>\n",
       "      <td>24.24</td>\n",
       "      <td>3182</td>\n",
       "    </tr>\n",
       "    <tr>\n",
       "      <th>961451</th>\n",
       "      <td>-108.69</td>\n",
       "      <td>1</td>\n",
       "      <td>159.67</td>\n",
       "      <td>687.46</td>\n",
       "      <td>1021.45</td>\n",
       "      <td>13.75</td>\n",
       "      <td>2521</td>\n",
       "    </tr>\n",
       "    <tr>\n",
       "      <th>388682</th>\n",
       "      <td>-177.42</td>\n",
       "      <td>1</td>\n",
       "      <td>880.50</td>\n",
       "      <td>1885.01</td>\n",
       "      <td>330.32</td>\n",
       "      <td>24.51</td>\n",
       "      <td>1145</td>\n",
       "    </tr>\n",
       "    <tr>\n",
       "      <th>494211</th>\n",
       "      <td>41.98</td>\n",
       "      <td>1</td>\n",
       "      <td>0.18</td>\n",
       "      <td>588.54</td>\n",
       "      <td>1207.91</td>\n",
       "      <td>0.00</td>\n",
       "      <td>258</td>\n",
       "    </tr>\n",
       "    <tr>\n",
       "      <th>93650</th>\n",
       "      <td>-99.98</td>\n",
       "      <td>1</td>\n",
       "      <td>5.42</td>\n",
       "      <td>639.25</td>\n",
       "      <td>1226.67</td>\n",
       "      <td>4.23</td>\n",
       "      <td>2290</td>\n",
       "    </tr>\n",
       "    <tr>\n",
       "      <th>744293</th>\n",
       "      <td>-18.82</td>\n",
       "      <td>1</td>\n",
       "      <td>4.80</td>\n",
       "      <td>614.71</td>\n",
       "      <td>1204.50</td>\n",
       "      <td>0.67</td>\n",
       "      <td>3828</td>\n",
       "    </tr>\n",
       "  </tbody>\n",
       "</table>\n",
       "</div>"
      ],
      "text/plain": [
       "        vehicle_angle  vehicle_type  vehicle_pos  vehicle_y  vehicle_x  \\\n",
       "475320          66.36             1        13.00     616.02    1175.12   \n",
       "862742        -132.31             1       621.52     591.96    1266.92   \n",
       "688040         102.28             1       575.72     381.22    1790.81   \n",
       "218014         -44.77             1        27.00     829.65    1374.56   \n",
       "554549        -161.19             1        82.91     273.80     904.22   \n",
       "356209          86.92             1         1.64     599.00    1248.06   \n",
       "130824         103.30             1         7.05     406.21    1874.70   \n",
       "115459          51.48             1         1.52     581.29    1211.60   \n",
       "925388          71.40             1        10.20     679.46     990.05   \n",
       "899287          75.54             1         6.97     582.32    1218.41   \n",
       "908421         119.13             1         5.51     417.26    1893.36   \n",
       "256170          97.78             1         4.80     578.22    1233.56   \n",
       "564804        -109.92             1         7.30     700.12     974.24   \n",
       "115551         175.33             1         1.54     607.25    1258.29   \n",
       "814431         113.62             1       621.54     394.68    1834.34   \n",
       "246384         -69.39             1        19.47     406.37    1127.64   \n",
       "381056          71.41             1       186.76     626.28    1158.44   \n",
       "58397           58.73             1        23.78     610.65    1183.98   \n",
       "58576           22.52             1        96.89     957.38     632.43   \n",
       "743091        -132.31             1       621.52     588.93    1265.33   \n",
       "697240        -108.69             1        22.01     643.35    1151.84   \n",
       "79294           74.26             1       461.67     391.28    1679.38   \n",
       "587203         160.22             1        91.67     551.78    1212.64   \n",
       "109991          18.54             1         4.10    1044.08     599.52   \n",
       "912530          71.40             1       186.76     623.15    1157.39   \n",
       "449721         -18.22             1        52.58     683.51    1246.75   \n",
       "1947            71.41             1       186.76     629.41    1159.50   \n",
       "363795        -109.26             1       316.13     484.10    1550.67   \n",
       "583653          97.78             1         5.06     578.26    1233.84   \n",
       "432952        -100.83             1       178.86     443.60    1681.39   \n",
       "666494         130.33             1       127.42     485.68    1993.22   \n",
       "834121         124.43             1       213.13     536.74    2062.04   \n",
       "684523        -142.39             1       143.75     832.88     719.40   \n",
       "49131           75.46             1         7.02     579.15    1217.48   \n",
       "856923          71.40             1        55.77     664.92    1033.24   \n",
       "146701          69.17             1       239.33     694.30     954.40   \n",
       "76386          135.61             1        22.71     869.92    1418.91   \n",
       "186705         134.45             1        96.91     954.76    1502.49   \n",
       "220045          71.41             1       192.26     627.66    1164.71   \n",
       "369669          74.26             1       477.29     383.54    1694.68   \n",
       "791156        -162.87             1         0.46    1057.17     607.12   \n",
       "219830          58.88             1        23.78     613.21    1186.11   \n",
       "801039         110.58             1        85.89     345.11     973.93   \n",
       "906087         113.62             1       615.64     392.33    1828.96   \n",
       "41296         -142.98             1       191.39     868.67     688.15   \n",
       "961451        -108.69             1       159.67     687.46    1021.45   \n",
       "388682        -177.42             1       880.50    1885.01     330.32   \n",
       "494211          41.98             1         0.18     588.54    1207.91   \n",
       "93650          -99.98             1         5.42     639.25    1226.67   \n",
       "744293         -18.82             1         4.80     614.71    1204.50   \n",
       "\n",
       "        vehicle_speed  vehicle_id  \n",
       "475320           6.36        3568  \n",
       "862742           0.00        2320  \n",
       "688040           4.16        2061  \n",
       "218014          21.58        4126  \n",
       "554549          20.24        3315  \n",
       "356209           2.65        4386  \n",
       "130824           4.32        3956  \n",
       "115459           0.00        1707  \n",
       "925388           4.25        1574  \n",
       "899287           0.09        5003  \n",
       "908421          12.23         931  \n",
       "256170           0.85        3076  \n",
       "564804          12.47         251  \n",
       "115551           8.98        3388  \n",
       "814431           1.35        4147  \n",
       "246384          20.57        4538  \n",
       "381056           0.00         279  \n",
       "58397            0.00        3199  \n",
       "58576           13.29        1700  \n",
       "743091           0.01        3861  \n",
       "697240          11.67        1365  \n",
       "79294            2.47         518  \n",
       "587203           0.52        1846  \n",
       "109991           0.00         740  \n",
       "912530           0.00        4099  \n",
       "449721          13.74        4335  \n",
       "1947             0.00        3779  \n",
       "363795          13.57        4125  \n",
       "583653           0.00         508  \n",
       "432952          13.87         901  \n",
       "666494          12.56        3793  \n",
       "834121          12.84        2631  \n",
       "684523          24.63        1625  \n",
       "49131            0.00        1889  \n",
       "856923          12.90        4987  \n",
       "146701          13.50        2985  \n",
       "76386           21.16        4386  \n",
       "186705          21.88         709  \n",
       "220045           0.00        4016  \n",
       "369669          13.74        4538  \n",
       "791156          23.37        5036  \n",
       "219830           0.00        2471  \n",
       "801039          21.63        3057  \n",
       "906087           1.41        1282  \n",
       "41296           24.24        3182  \n",
       "961451          13.75        2521  \n",
       "388682          24.51        1145  \n",
       "494211           0.00         258  \n",
       "93650            4.23        2290  \n",
       "744293           0.67        3828  "
      ]
     },
     "execution_count": 62,
     "metadata": {},
     "output_type": "execute_result"
    }
   ],
   "source": [
    "X.head(50)"
   ]
  },
  {
   "cell_type": "code",
   "execution_count": 63,
   "metadata": {},
   "outputs": [],
   "source": [
    "from sklearn.utils import shuffle"
   ]
  },
  {
   "cell_type": "code",
   "execution_count": 64,
   "metadata": {},
   "outputs": [],
   "source": [
    "X = shuffle(X)"
   ]
  },
  {
   "cell_type": "code",
   "execution_count": 65,
   "metadata": {},
   "outputs": [
    {
     "data": {
      "text/html": [
       "<div>\n",
       "<style scoped>\n",
       "    .dataframe tbody tr th:only-of-type {\n",
       "        vertical-align: middle;\n",
       "    }\n",
       "\n",
       "    .dataframe tbody tr th {\n",
       "        vertical-align: top;\n",
       "    }\n",
       "\n",
       "    .dataframe thead th {\n",
       "        text-align: right;\n",
       "    }\n",
       "</style>\n",
       "<table border=\"1\" class=\"dataframe\">\n",
       "  <thead>\n",
       "    <tr style=\"text-align: right;\">\n",
       "      <th></th>\n",
       "      <th>vehicle_angle</th>\n",
       "      <th>vehicle_type</th>\n",
       "      <th>vehicle_pos</th>\n",
       "      <th>vehicle_y</th>\n",
       "      <th>vehicle_x</th>\n",
       "      <th>vehicle_speed</th>\n",
       "      <th>vehicle_id</th>\n",
       "    </tr>\n",
       "  </thead>\n",
       "  <tbody>\n",
       "    <tr>\n",
       "      <th>886540</th>\n",
       "      <td>98.01</td>\n",
       "      <td>1</td>\n",
       "      <td>557.15</td>\n",
       "      <td>378.35</td>\n",
       "      <td>1772.54</td>\n",
       "      <td>13.85</td>\n",
       "      <td>455</td>\n",
       "    </tr>\n",
       "    <tr>\n",
       "      <th>135749</th>\n",
       "      <td>71.40</td>\n",
       "      <td>0</td>\n",
       "      <td>123.44</td>\n",
       "      <td>643.34</td>\n",
       "      <td>1097.38</td>\n",
       "      <td>12.32</td>\n",
       "      <td>88</td>\n",
       "    </tr>\n",
       "    <tr>\n",
       "      <th>920630</th>\n",
       "      <td>-29.54</td>\n",
       "      <td>1</td>\n",
       "      <td>75.84</td>\n",
       "      <td>660.01</td>\n",
       "      <td>1241.20</td>\n",
       "      <td>12.65</td>\n",
       "      <td>4530</td>\n",
       "    </tr>\n",
       "    <tr>\n",
       "      <th>22701</th>\n",
       "      <td>65.08</td>\n",
       "      <td>1</td>\n",
       "      <td>12.71</td>\n",
       "      <td>621.69</td>\n",
       "      <td>1178.39</td>\n",
       "      <td>0.33</td>\n",
       "      <td>2417</td>\n",
       "    </tr>\n",
       "    <tr>\n",
       "      <th>743264</th>\n",
       "      <td>-149.72</td>\n",
       "      <td>1</td>\n",
       "      <td>426.92</td>\n",
       "      <td>1451.37</td>\n",
       "      <td>442.67</td>\n",
       "      <td>24.05</td>\n",
       "      <td>4486</td>\n",
       "    </tr>\n",
       "  </tbody>\n",
       "</table>\n",
       "</div>"
      ],
      "text/plain": [
       "        vehicle_angle  vehicle_type  vehicle_pos  vehicle_y  vehicle_x  \\\n",
       "886540          98.01             1       557.15     378.35    1772.54   \n",
       "135749          71.40             0       123.44     643.34    1097.38   \n",
       "920630         -29.54             1        75.84     660.01    1241.20   \n",
       "22701           65.08             1        12.71     621.69    1178.39   \n",
       "743264        -149.72             1       426.92    1451.37     442.67   \n",
       "\n",
       "        vehicle_speed  vehicle_id  \n",
       "886540          13.85         455  \n",
       "135749          12.32          88  \n",
       "920630          12.65        4530  \n",
       "22701            0.33        2417  \n",
       "743264          24.05        4486  "
      ]
     },
     "execution_count": 65,
     "metadata": {},
     "output_type": "execute_result"
    }
   ],
   "source": [
    "X.head()"
   ]
  },
  {
   "cell_type": "code",
   "execution_count": 66,
   "metadata": {},
   "outputs": [],
   "source": [
    "from sklearn.preprocessing import OneHotEncoder"
   ]
  },
  {
   "cell_type": "code",
   "execution_count": 67,
   "metadata": {},
   "outputs": [],
   "source": [
    "ohe = OneHotEncoder(categorical_features=boolean_masking,sparse=False)"
   ]
  },
  {
   "cell_type": "code",
   "execution_count": 68,
   "metadata": {},
   "outputs": [
    {
     "name": "stdout",
     "output_type": "stream",
     "text": [
      "(962719, 7)\n"
     ]
    }
   ],
   "source": [
    "print(X.shape)"
   ]
  },
  {
   "cell_type": "code",
   "execution_count": 69,
   "metadata": {},
   "outputs": [],
   "source": [
    "X.dropna(inplace=True)"
   ]
  },
  {
   "cell_type": "code",
   "execution_count": 70,
   "metadata": {},
   "outputs": [
    {
     "name": "stdout",
     "output_type": "stream",
     "text": [
      "(962719, 7)\n"
     ]
    }
   ],
   "source": [
    "print(X.shape)"
   ]
  },
  {
   "cell_type": "code",
   "execution_count": 71,
   "metadata": {},
   "outputs": [
    {
     "name": "stderr",
     "output_type": "stream",
     "text": [
      "/home/yatin/anaconda3/lib/python3.7/site-packages/sklearn/preprocessing/_encoders.py:368: FutureWarning: The handling of integer data will change in version 0.22. Currently, the categories are determined based on the range [0, max(values)], while in the future they will be determined based on the unique values.\n",
      "If you want the future behaviour and silence this warning, you can specify \"categories='auto'\".\n",
      "In case you used a LabelEncoder before this OneHotEncoder to convert the categories to integers, then you can now use the OneHotEncoder directly.\n",
      "  warnings.warn(msg, FutureWarning)\n",
      "/home/yatin/anaconda3/lib/python3.7/site-packages/sklearn/preprocessing/_encoders.py:390: DeprecationWarning: The 'categorical_features' keyword is deprecated in version 0.20 and will be removed in 0.22. You can use the ColumnTransformer instead.\n",
      "  \"use the ColumnTransformer instead.\", DeprecationWarning)\n"
     ]
    },
    {
     "ename": "MemoryError",
     "evalue": "",
     "output_type": "error",
     "traceback": [
      "\u001b[0;31m---------------------------------------------------------------------------\u001b[0m",
      "\u001b[0;31mMemoryError\u001b[0m                               Traceback (most recent call last)",
      "\u001b[0;32m<ipython-input-71-7a987b58f632>\u001b[0m in \u001b[0;36m<module>\u001b[0;34m\u001b[0m\n\u001b[0;32m----> 1\u001b[0;31m \u001b[0mX\u001b[0m \u001b[0;34m=\u001b[0m \u001b[0mohe\u001b[0m\u001b[0;34m.\u001b[0m\u001b[0mfit_transform\u001b[0m\u001b[0;34m(\u001b[0m\u001b[0mX\u001b[0m\u001b[0;34m)\u001b[0m\u001b[0;34m\u001b[0m\u001b[0;34m\u001b[0m\u001b[0m\n\u001b[0m",
      "\u001b[0;32m~/anaconda3/lib/python3.7/site-packages/sklearn/preprocessing/_encoders.py\u001b[0m in \u001b[0;36mfit_transform\u001b[0;34m(self, X, y)\u001b[0m\n\u001b[1;32m    512\u001b[0m             return _transform_selected(\n\u001b[1;32m    513\u001b[0m                 \u001b[0mX\u001b[0m\u001b[0;34m,\u001b[0m \u001b[0mself\u001b[0m\u001b[0;34m.\u001b[0m\u001b[0m_legacy_fit_transform\u001b[0m\u001b[0;34m,\u001b[0m \u001b[0mself\u001b[0m\u001b[0;34m.\u001b[0m\u001b[0mdtype\u001b[0m\u001b[0;34m,\u001b[0m\u001b[0;34m\u001b[0m\u001b[0;34m\u001b[0m\u001b[0m\n\u001b[0;32m--> 514\u001b[0;31m                 self._categorical_features, copy=True)\n\u001b[0m\u001b[1;32m    515\u001b[0m         \u001b[0;32melse\u001b[0m\u001b[0;34m:\u001b[0m\u001b[0;34m\u001b[0m\u001b[0;34m\u001b[0m\u001b[0m\n\u001b[1;32m    516\u001b[0m             \u001b[0;32mreturn\u001b[0m \u001b[0mself\u001b[0m\u001b[0;34m.\u001b[0m\u001b[0mfit\u001b[0m\u001b[0;34m(\u001b[0m\u001b[0mX\u001b[0m\u001b[0;34m)\u001b[0m\u001b[0;34m.\u001b[0m\u001b[0mtransform\u001b[0m\u001b[0;34m(\u001b[0m\u001b[0mX\u001b[0m\u001b[0;34m)\u001b[0m\u001b[0;34m\u001b[0m\u001b[0;34m\u001b[0m\u001b[0m\n",
      "\u001b[0;32m~/anaconda3/lib/python3.7/site-packages/sklearn/preprocessing/base.py\u001b[0m in \u001b[0;36m_transform_selected\u001b[0;34m(X, transform, dtype, selected, copy, retain_order)\u001b[0m\n\u001b[1;32m     69\u001b[0m         \u001b[0;32mreturn\u001b[0m \u001b[0mtransform\u001b[0m\u001b[0;34m(\u001b[0m\u001b[0mX\u001b[0m\u001b[0;34m)\u001b[0m\u001b[0;34m\u001b[0m\u001b[0;34m\u001b[0m\u001b[0m\n\u001b[1;32m     70\u001b[0m     \u001b[0;32melse\u001b[0m\u001b[0;34m:\u001b[0m\u001b[0;34m\u001b[0m\u001b[0;34m\u001b[0m\u001b[0m\n\u001b[0;32m---> 71\u001b[0;31m         \u001b[0mX_sel\u001b[0m \u001b[0;34m=\u001b[0m \u001b[0mtransform\u001b[0m\u001b[0;34m(\u001b[0m\u001b[0mX\u001b[0m\u001b[0;34m[\u001b[0m\u001b[0;34m:\u001b[0m\u001b[0;34m,\u001b[0m \u001b[0mind\u001b[0m\u001b[0;34m[\u001b[0m\u001b[0msel\u001b[0m\u001b[0;34m]\u001b[0m\u001b[0;34m]\u001b[0m\u001b[0;34m)\u001b[0m\u001b[0;34m\u001b[0m\u001b[0;34m\u001b[0m\u001b[0m\n\u001b[0m\u001b[1;32m     72\u001b[0m         \u001b[0;31m# The columns of X which are not transformed need\u001b[0m\u001b[0;34m\u001b[0m\u001b[0;34m\u001b[0m\u001b[0;34m\u001b[0m\u001b[0m\n\u001b[1;32m     73\u001b[0m         \u001b[0;31m# to be casted to the desire dtype before concatenation.\u001b[0m\u001b[0;34m\u001b[0m\u001b[0;34m\u001b[0m\u001b[0;34m\u001b[0m\u001b[0m\n",
      "\u001b[0;32m~/anaconda3/lib/python3.7/site-packages/sklearn/preprocessing/_encoders.py\u001b[0m in \u001b[0;36m_legacy_fit_transform\u001b[0;34m(self, X)\u001b[0m\n\u001b[1;32m    485\u001b[0m                 else np.unique(X[:, i]) for i in range(n_features)]\n\u001b[1;32m    486\u001b[0m \u001b[0;34m\u001b[0m\u001b[0m\n\u001b[0;32m--> 487\u001b[0;31m         \u001b[0;32mreturn\u001b[0m \u001b[0mout\u001b[0m \u001b[0;32mif\u001b[0m \u001b[0mself\u001b[0m\u001b[0;34m.\u001b[0m\u001b[0msparse\u001b[0m \u001b[0;32melse\u001b[0m \u001b[0mout\u001b[0m\u001b[0;34m.\u001b[0m\u001b[0mtoarray\u001b[0m\u001b[0;34m(\u001b[0m\u001b[0;34m)\u001b[0m\u001b[0;34m\u001b[0m\u001b[0;34m\u001b[0m\u001b[0m\n\u001b[0m\u001b[1;32m    488\u001b[0m \u001b[0;34m\u001b[0m\u001b[0m\n\u001b[1;32m    489\u001b[0m     \u001b[0;32mdef\u001b[0m \u001b[0mfit_transform\u001b[0m\u001b[0;34m(\u001b[0m\u001b[0mself\u001b[0m\u001b[0;34m,\u001b[0m \u001b[0mX\u001b[0m\u001b[0;34m,\u001b[0m \u001b[0my\u001b[0m\u001b[0;34m=\u001b[0m\u001b[0;32mNone\u001b[0m\u001b[0;34m)\u001b[0m\u001b[0;34m:\u001b[0m\u001b[0;34m\u001b[0m\u001b[0;34m\u001b[0m\u001b[0m\n",
      "\u001b[0;32m~/anaconda3/lib/python3.7/site-packages/scipy/sparse/compressed.py\u001b[0m in \u001b[0;36mtoarray\u001b[0;34m(self, order, out)\u001b[0m\n\u001b[1;32m    945\u001b[0m         \u001b[0;32mif\u001b[0m \u001b[0mout\u001b[0m \u001b[0;32mis\u001b[0m \u001b[0;32mNone\u001b[0m \u001b[0;32mand\u001b[0m \u001b[0morder\u001b[0m \u001b[0;32mis\u001b[0m \u001b[0;32mNone\u001b[0m\u001b[0;34m:\u001b[0m\u001b[0;34m\u001b[0m\u001b[0;34m\u001b[0m\u001b[0m\n\u001b[1;32m    946\u001b[0m             \u001b[0morder\u001b[0m \u001b[0;34m=\u001b[0m \u001b[0mself\u001b[0m\u001b[0;34m.\u001b[0m\u001b[0m_swap\u001b[0m\u001b[0;34m(\u001b[0m\u001b[0;34m'cf'\u001b[0m\u001b[0;34m)\u001b[0m\u001b[0;34m[\u001b[0m\u001b[0;36m0\u001b[0m\u001b[0;34m]\u001b[0m\u001b[0;34m\u001b[0m\u001b[0;34m\u001b[0m\u001b[0m\n\u001b[0;32m--> 947\u001b[0;31m         \u001b[0mout\u001b[0m \u001b[0;34m=\u001b[0m \u001b[0mself\u001b[0m\u001b[0;34m.\u001b[0m\u001b[0m_process_toarray_args\u001b[0m\u001b[0;34m(\u001b[0m\u001b[0morder\u001b[0m\u001b[0;34m,\u001b[0m \u001b[0mout\u001b[0m\u001b[0;34m)\u001b[0m\u001b[0;34m\u001b[0m\u001b[0;34m\u001b[0m\u001b[0m\n\u001b[0m\u001b[1;32m    948\u001b[0m         \u001b[0;32mif\u001b[0m \u001b[0;32mnot\u001b[0m \u001b[0;34m(\u001b[0m\u001b[0mout\u001b[0m\u001b[0;34m.\u001b[0m\u001b[0mflags\u001b[0m\u001b[0;34m.\u001b[0m\u001b[0mc_contiguous\u001b[0m \u001b[0;32mor\u001b[0m \u001b[0mout\u001b[0m\u001b[0;34m.\u001b[0m\u001b[0mflags\u001b[0m\u001b[0;34m.\u001b[0m\u001b[0mf_contiguous\u001b[0m\u001b[0;34m)\u001b[0m\u001b[0;34m:\u001b[0m\u001b[0;34m\u001b[0m\u001b[0;34m\u001b[0m\u001b[0m\n\u001b[1;32m    949\u001b[0m             \u001b[0;32mraise\u001b[0m \u001b[0mValueError\u001b[0m\u001b[0;34m(\u001b[0m\u001b[0;34m'Output array must be C or F contiguous'\u001b[0m\u001b[0;34m)\u001b[0m\u001b[0;34m\u001b[0m\u001b[0;34m\u001b[0m\u001b[0m\n",
      "\u001b[0;32m~/anaconda3/lib/python3.7/site-packages/scipy/sparse/base.py\u001b[0m in \u001b[0;36m_process_toarray_args\u001b[0;34m(self, order, out)\u001b[0m\n\u001b[1;32m   1182\u001b[0m             \u001b[0;32mreturn\u001b[0m \u001b[0mout\u001b[0m\u001b[0;34m\u001b[0m\u001b[0;34m\u001b[0m\u001b[0m\n\u001b[1;32m   1183\u001b[0m         \u001b[0;32melse\u001b[0m\u001b[0;34m:\u001b[0m\u001b[0;34m\u001b[0m\u001b[0;34m\u001b[0m\u001b[0m\n\u001b[0;32m-> 1184\u001b[0;31m             \u001b[0;32mreturn\u001b[0m \u001b[0mnp\u001b[0m\u001b[0;34m.\u001b[0m\u001b[0mzeros\u001b[0m\u001b[0;34m(\u001b[0m\u001b[0mself\u001b[0m\u001b[0;34m.\u001b[0m\u001b[0mshape\u001b[0m\u001b[0;34m,\u001b[0m \u001b[0mdtype\u001b[0m\u001b[0;34m=\u001b[0m\u001b[0mself\u001b[0m\u001b[0;34m.\u001b[0m\u001b[0mdtype\u001b[0m\u001b[0;34m,\u001b[0m \u001b[0morder\u001b[0m\u001b[0;34m=\u001b[0m\u001b[0morder\u001b[0m\u001b[0;34m)\u001b[0m\u001b[0;34m\u001b[0m\u001b[0;34m\u001b[0m\u001b[0m\n\u001b[0m\u001b[1;32m   1185\u001b[0m \u001b[0;34m\u001b[0m\u001b[0m\n\u001b[1;32m   1186\u001b[0m \u001b[0;34m\u001b[0m\u001b[0m\n",
      "\u001b[0;31mMemoryError\u001b[0m: "
     ]
    }
   ],
   "source": [
    "X = ohe.fit_transform(X)"
   ]
  },
  {
   "cell_type": "code",
   "execution_count": 99,
   "metadata": {},
   "outputs": [
    {
     "data": {
      "text/html": [
       "<div>\n",
       "<style scoped>\n",
       "    .dataframe tbody tr th:only-of-type {\n",
       "        vertical-align: middle;\n",
       "    }\n",
       "\n",
       "    .dataframe tbody tr th {\n",
       "        vertical-align: top;\n",
       "    }\n",
       "\n",
       "    .dataframe thead th {\n",
       "        text-align: right;\n",
       "    }\n",
       "</style>\n",
       "<table border=\"1\" class=\"dataframe\">\n",
       "  <thead>\n",
       "    <tr style=\"text-align: right;\">\n",
       "      <th></th>\n",
       "      <th>vehicle_angle</th>\n",
       "      <th>vehicle_type</th>\n",
       "      <th>vehicle_pos</th>\n",
       "      <th>vehicle_y</th>\n",
       "      <th>vehicle_x</th>\n",
       "      <th>vehicle_speed</th>\n",
       "      <th>vehicle_id</th>\n",
       "    </tr>\n",
       "  </thead>\n",
       "  <tbody>\n",
       "    <tr>\n",
       "      <th>0</th>\n",
       "      <td>-101.40</td>\n",
       "      <td>Bus</td>\n",
       "      <td>6.1</td>\n",
       "      <td>555.85</td>\n",
       "      <td>1588.94</td>\n",
       "      <td>0.0</td>\n",
       "      <td>BusFlowEastWest0.0</td>\n",
       "    </tr>\n",
       "    <tr>\n",
       "      <th>1</th>\n",
       "      <td>-44.63</td>\n",
       "      <td>Bus</td>\n",
       "      <td>6.1</td>\n",
       "      <td>722.81</td>\n",
       "      <td>1270.66</td>\n",
       "      <td>0.0</td>\n",
       "      <td>BusFlowNorthSouth0.0</td>\n",
       "    </tr>\n",
       "    <tr>\n",
       "      <th>2</th>\n",
       "      <td>160.22</td>\n",
       "      <td>Bus</td>\n",
       "      <td>6.1</td>\n",
       "      <td>471.48</td>\n",
       "      <td>1183.77</td>\n",
       "      <td>0.0</td>\n",
       "      <td>BusFlowSouthNorth0.0</td>\n",
       "    </tr>\n",
       "    <tr>\n",
       "      <th>3</th>\n",
       "      <td>67.65</td>\n",
       "      <td>Bus</td>\n",
       "      <td>6.1</td>\n",
       "      <td>711.28</td>\n",
       "      <td>874.23</td>\n",
       "      <td>0.0</td>\n",
       "      <td>BusFlowWestEast0.0</td>\n",
       "    </tr>\n",
       "    <tr>\n",
       "      <th>4</th>\n",
       "      <td>16.81</td>\n",
       "      <td>Vehicle</td>\n",
       "      <td>4.1</td>\n",
       "      <td>517.45</td>\n",
       "      <td>1849.76</td>\n",
       "      <td>0.0</td>\n",
       "      <td>VehicleFlowEastToNorth.0</td>\n",
       "    </tr>\n",
       "    <tr>\n",
       "      <th>5</th>\n",
       "      <td>-93.35</td>\n",
       "      <td>Vehicle</td>\n",
       "      <td>4.1</td>\n",
       "      <td>420.70</td>\n",
       "      <td>1853.89</td>\n",
       "      <td>0.0</td>\n",
       "      <td>VehicleFlowEastToWest_0.0</td>\n",
       "    </tr>\n",
       "    <tr>\n",
       "      <th>6</th>\n",
       "      <td>-45.05</td>\n",
       "      <td>Vehicle</td>\n",
       "      <td>4.1</td>\n",
       "      <td>759.18</td>\n",
       "      <td>2349.98</td>\n",
       "      <td>0.0</td>\n",
       "      <td>VehicleFlowEastToWest_1.0</td>\n",
       "    </tr>\n",
       "    <tr>\n",
       "      <th>7</th>\n",
       "      <td>18.54</td>\n",
       "      <td>Vehicle</td>\n",
       "      <td>4.1</td>\n",
       "      <td>1044.08</td>\n",
       "      <td>599.52</td>\n",
       "      <td>0.0</td>\n",
       "      <td>VehicleFlowWestToEast.0</td>\n",
       "    </tr>\n",
       "    <tr>\n",
       "      <th>8</th>\n",
       "      <td>71.40</td>\n",
       "      <td>Vehicle</td>\n",
       "      <td>4.1</td>\n",
       "      <td>681.40</td>\n",
       "      <td>984.27</td>\n",
       "      <td>0.0</td>\n",
       "      <td>VehicleFlowWestToEast_0.0</td>\n",
       "    </tr>\n",
       "    <tr>\n",
       "      <th>9</th>\n",
       "      <td>58.74</td>\n",
       "      <td>Vehicle</td>\n",
       "      <td>4.1</td>\n",
       "      <td>778.93</td>\n",
       "      <td>734.83</td>\n",
       "      <td>0.0</td>\n",
       "      <td>VehicleFlowWestToSouth.0</td>\n",
       "    </tr>\n",
       "  </tbody>\n",
       "</table>\n",
       "</div>"
      ],
      "text/plain": [
       "   vehicle_angle vehicle_type  vehicle_pos  vehicle_y  vehicle_x  \\\n",
       "0        -101.40          Bus          6.1     555.85    1588.94   \n",
       "1         -44.63          Bus          6.1     722.81    1270.66   \n",
       "2         160.22          Bus          6.1     471.48    1183.77   \n",
       "3          67.65          Bus          6.1     711.28     874.23   \n",
       "4          16.81      Vehicle          4.1     517.45    1849.76   \n",
       "5         -93.35      Vehicle          4.1     420.70    1853.89   \n",
       "6         -45.05      Vehicle          4.1     759.18    2349.98   \n",
       "7          18.54      Vehicle          4.1    1044.08     599.52   \n",
       "8          71.40      Vehicle          4.1     681.40     984.27   \n",
       "9          58.74      Vehicle          4.1     778.93     734.83   \n",
       "\n",
       "   vehicle_speed                 vehicle_id  \n",
       "0            0.0         BusFlowEastWest0.0  \n",
       "1            0.0       BusFlowNorthSouth0.0  \n",
       "2            0.0       BusFlowSouthNorth0.0  \n",
       "3            0.0         BusFlowWestEast0.0  \n",
       "4            0.0   VehicleFlowEastToNorth.0  \n",
       "5            0.0  VehicleFlowEastToWest_0.0  \n",
       "6            0.0  VehicleFlowEastToWest_1.0  \n",
       "7            0.0    VehicleFlowWestToEast.0  \n",
       "8            0.0  VehicleFlowWestToEast_0.0  \n",
       "9            0.0   VehicleFlowWestToSouth.0  "
      ]
     },
     "execution_count": 99,
     "metadata": {},
     "output_type": "execute_result"
    }
   ],
   "source": [
    "X.head(10)"
   ]
  },
  {
   "cell_type": "code",
   "execution_count": null,
   "metadata": {},
   "outputs": [],
   "source": []
  },
  {
   "cell_type": "code",
   "execution_count": null,
   "metadata": {},
   "outputs": [],
   "source": []
  },
  {
   "cell_type": "code",
   "execution_count": 119,
   "metadata": {},
   "outputs": [
    {
     "ename": "MemoryError",
     "evalue": "",
     "output_type": "error",
     "traceback": [
      "\u001b[0;31m---------------------------------------------------------------------------\u001b[0m",
      "\u001b[0;31mMemoryError\u001b[0m                               Traceback (most recent call last)",
      "\u001b[0;32m<ipython-input-119-846157f4d72e>\u001b[0m in \u001b[0;36m<module>\u001b[0;34m\u001b[0m\n\u001b[0;32m----> 1\u001b[0;31m \u001b[0mohe\u001b[0m\u001b[0;34m.\u001b[0m\u001b[0mfit_transform\u001b[0m\u001b[0;34m(\u001b[0m\u001b[0mX\u001b[0m\u001b[0;34m)\u001b[0m\u001b[0;34m\u001b[0m\u001b[0;34m\u001b[0m\u001b[0m\n\u001b[0m",
      "\u001b[0;32m~/anaconda3/lib/python3.7/site-packages/dummyPy/dummyPy.py\u001b[0m in \u001b[0;36mfit_transform\u001b[0;34m(self, data)\u001b[0m\n\u001b[1;32m    190\u001b[0m         \"\"\"\n\u001b[1;32m    191\u001b[0m         \u001b[0mself\u001b[0m\u001b[0;34m.\u001b[0m\u001b[0mfit\u001b[0m\u001b[0;34m(\u001b[0m\u001b[0mdata\u001b[0m\u001b[0;34m)\u001b[0m\u001b[0;34m\u001b[0m\u001b[0;34m\u001b[0m\u001b[0m\n\u001b[0;32m--> 192\u001b[0;31m         \u001b[0;32mreturn\u001b[0m\u001b[0;34m(\u001b[0m\u001b[0mself\u001b[0m\u001b[0;34m.\u001b[0m\u001b[0mtransform\u001b[0m\u001b[0;34m(\u001b[0m\u001b[0mdata\u001b[0m\u001b[0;34m)\u001b[0m\u001b[0;34m)\u001b[0m\u001b[0;34m\u001b[0m\u001b[0;34m\u001b[0m\u001b[0m\n\u001b[0m",
      "\u001b[0;32m~/anaconda3/lib/python3.7/site-packages/dummyPy/dummyPy.py\u001b[0m in \u001b[0;36mtransform\u001b[0;34m(self, data, dtype)\u001b[0m\n\u001b[1;32m    156\u001b[0m                             \u001b[0;32mif\u001b[0m \u001b[0mcolumn_name\u001b[0m \u001b[0;32min\u001b[0m \u001b[0mself\u001b[0m\u001b[0;34m.\u001b[0m\u001b[0mcategorical_columns\u001b[0m\u001b[0;34m\u001b[0m\u001b[0;34m\u001b[0m\u001b[0m\n\u001b[1;32m    157\u001b[0m                             \u001b[0;32melse\u001b[0m \u001b[0mdata\u001b[0m\u001b[0;34m[\u001b[0m\u001b[0mcolumn_name\u001b[0m\u001b[0;34m]\u001b[0m\u001b[0;34m.\u001b[0m\u001b[0mvalues\u001b[0m\u001b[0;34m.\u001b[0m\u001b[0mreshape\u001b[0m\u001b[0;34m(\u001b[0m\u001b[0;34m-\u001b[0m\u001b[0;36m1\u001b[0m\u001b[0;34m,\u001b[0m \u001b[0;36m1\u001b[0m\u001b[0;34m)\u001b[0m\u001b[0;34m\u001b[0m\u001b[0;34m\u001b[0m\u001b[0m\n\u001b[0;32m--> 158\u001b[0;31m                             for column_name in data.columns]\n\u001b[0m\u001b[1;32m    159\u001b[0m         \u001b[0mtransformed_np_array\u001b[0m \u001b[0;34m=\u001b[0m \u001b[0mnp\u001b[0m\u001b[0;34m.\u001b[0m\u001b[0marray\u001b[0m\u001b[0;34m(\u001b[0m\u001b[0mnp\u001b[0m\u001b[0;34m.\u001b[0m\u001b[0mconcatenate\u001b[0m\u001b[0;34m(\u001b[0m\u001b[0mtransformed_data\u001b[0m\u001b[0;34m,\u001b[0m \u001b[0maxis\u001b[0m\u001b[0;34m=\u001b[0m\u001b[0;36m1\u001b[0m\u001b[0;34m)\u001b[0m\u001b[0;34m,\u001b[0m \u001b[0mdtype\u001b[0m\u001b[0;34m=\u001b[0m\u001b[0mobject\u001b[0m\u001b[0;34m)\u001b[0m\u001b[0;34m\u001b[0m\u001b[0;34m\u001b[0m\u001b[0m\n\u001b[1;32m    160\u001b[0m \u001b[0;34m\u001b[0m\u001b[0m\n",
      "\u001b[0;32m~/anaconda3/lib/python3.7/site-packages/dummyPy/dummyPy.py\u001b[0m in \u001b[0;36m<listcomp>\u001b[0;34m(.0)\u001b[0m\n\u001b[1;32m    156\u001b[0m                             \u001b[0;32mif\u001b[0m \u001b[0mcolumn_name\u001b[0m \u001b[0;32min\u001b[0m \u001b[0mself\u001b[0m\u001b[0;34m.\u001b[0m\u001b[0mcategorical_columns\u001b[0m\u001b[0;34m\u001b[0m\u001b[0;34m\u001b[0m\u001b[0m\n\u001b[1;32m    157\u001b[0m                             \u001b[0;32melse\u001b[0m \u001b[0mdata\u001b[0m\u001b[0;34m[\u001b[0m\u001b[0mcolumn_name\u001b[0m\u001b[0;34m]\u001b[0m\u001b[0;34m.\u001b[0m\u001b[0mvalues\u001b[0m\u001b[0;34m.\u001b[0m\u001b[0mreshape\u001b[0m\u001b[0;34m(\u001b[0m\u001b[0;34m-\u001b[0m\u001b[0;36m1\u001b[0m\u001b[0;34m,\u001b[0m \u001b[0;36m1\u001b[0m\u001b[0;34m)\u001b[0m\u001b[0;34m\u001b[0m\u001b[0;34m\u001b[0m\u001b[0m\n\u001b[0;32m--> 158\u001b[0;31m                             for column_name in data.columns]\n\u001b[0m\u001b[1;32m    159\u001b[0m         \u001b[0mtransformed_np_array\u001b[0m \u001b[0;34m=\u001b[0m \u001b[0mnp\u001b[0m\u001b[0;34m.\u001b[0m\u001b[0marray\u001b[0m\u001b[0;34m(\u001b[0m\u001b[0mnp\u001b[0m\u001b[0;34m.\u001b[0m\u001b[0mconcatenate\u001b[0m\u001b[0;34m(\u001b[0m\u001b[0mtransformed_data\u001b[0m\u001b[0;34m,\u001b[0m \u001b[0maxis\u001b[0m\u001b[0;34m=\u001b[0m\u001b[0;36m1\u001b[0m\u001b[0;34m)\u001b[0m\u001b[0;34m,\u001b[0m \u001b[0mdtype\u001b[0m\u001b[0;34m=\u001b[0m\u001b[0mobject\u001b[0m\u001b[0;34m)\u001b[0m\u001b[0;34m\u001b[0m\u001b[0;34m\u001b[0m\u001b[0m\n\u001b[1;32m    160\u001b[0m \u001b[0;34m\u001b[0m\u001b[0m\n",
      "\u001b[0;32m~/anaconda3/lib/python3.7/site-packages/scipy/sparse/coo.py\u001b[0m in \u001b[0;36mtoarray\u001b[0;34m(self, order, out)\u001b[0m\n\u001b[1;32m    308\u001b[0m     \u001b[0;32mdef\u001b[0m \u001b[0mtoarray\u001b[0m\u001b[0;34m(\u001b[0m\u001b[0mself\u001b[0m\u001b[0;34m,\u001b[0m \u001b[0morder\u001b[0m\u001b[0;34m=\u001b[0m\u001b[0;32mNone\u001b[0m\u001b[0;34m,\u001b[0m \u001b[0mout\u001b[0m\u001b[0;34m=\u001b[0m\u001b[0;32mNone\u001b[0m\u001b[0;34m)\u001b[0m\u001b[0;34m:\u001b[0m\u001b[0;34m\u001b[0m\u001b[0;34m\u001b[0m\u001b[0m\n\u001b[1;32m    309\u001b[0m         \u001b[0;34m\"\"\"See the docstring for `spmatrix.toarray`.\"\"\"\u001b[0m\u001b[0;34m\u001b[0m\u001b[0;34m\u001b[0m\u001b[0m\n\u001b[0;32m--> 310\u001b[0;31m         \u001b[0mB\u001b[0m \u001b[0;34m=\u001b[0m \u001b[0mself\u001b[0m\u001b[0;34m.\u001b[0m\u001b[0m_process_toarray_args\u001b[0m\u001b[0;34m(\u001b[0m\u001b[0morder\u001b[0m\u001b[0;34m,\u001b[0m \u001b[0mout\u001b[0m\u001b[0;34m)\u001b[0m\u001b[0;34m\u001b[0m\u001b[0;34m\u001b[0m\u001b[0m\n\u001b[0m\u001b[1;32m    311\u001b[0m         \u001b[0mfortran\u001b[0m \u001b[0;34m=\u001b[0m \u001b[0mint\u001b[0m\u001b[0;34m(\u001b[0m\u001b[0mB\u001b[0m\u001b[0;34m.\u001b[0m\u001b[0mflags\u001b[0m\u001b[0;34m.\u001b[0m\u001b[0mf_contiguous\u001b[0m\u001b[0;34m)\u001b[0m\u001b[0;34m\u001b[0m\u001b[0;34m\u001b[0m\u001b[0m\n\u001b[1;32m    312\u001b[0m         \u001b[0;32mif\u001b[0m \u001b[0;32mnot\u001b[0m \u001b[0mfortran\u001b[0m \u001b[0;32mand\u001b[0m \u001b[0;32mnot\u001b[0m \u001b[0mB\u001b[0m\u001b[0;34m.\u001b[0m\u001b[0mflags\u001b[0m\u001b[0;34m.\u001b[0m\u001b[0mc_contiguous\u001b[0m\u001b[0;34m:\u001b[0m\u001b[0;34m\u001b[0m\u001b[0;34m\u001b[0m\u001b[0m\n",
      "\u001b[0;32m~/anaconda3/lib/python3.7/site-packages/scipy/sparse/base.py\u001b[0m in \u001b[0;36m_process_toarray_args\u001b[0;34m(self, order, out)\u001b[0m\n\u001b[1;32m   1182\u001b[0m             \u001b[0;32mreturn\u001b[0m \u001b[0mout\u001b[0m\u001b[0;34m\u001b[0m\u001b[0;34m\u001b[0m\u001b[0m\n\u001b[1;32m   1183\u001b[0m         \u001b[0;32melse\u001b[0m\u001b[0;34m:\u001b[0m\u001b[0;34m\u001b[0m\u001b[0;34m\u001b[0m\u001b[0m\n\u001b[0;32m-> 1184\u001b[0;31m             \u001b[0;32mreturn\u001b[0m \u001b[0mnp\u001b[0m\u001b[0;34m.\u001b[0m\u001b[0mzeros\u001b[0m\u001b[0;34m(\u001b[0m\u001b[0mself\u001b[0m\u001b[0;34m.\u001b[0m\u001b[0mshape\u001b[0m\u001b[0;34m,\u001b[0m \u001b[0mdtype\u001b[0m\u001b[0;34m=\u001b[0m\u001b[0mself\u001b[0m\u001b[0;34m.\u001b[0m\u001b[0mdtype\u001b[0m\u001b[0;34m,\u001b[0m \u001b[0morder\u001b[0m\u001b[0;34m=\u001b[0m\u001b[0morder\u001b[0m\u001b[0;34m)\u001b[0m\u001b[0;34m\u001b[0m\u001b[0;34m\u001b[0m\u001b[0m\n\u001b[0m\u001b[1;32m   1185\u001b[0m \u001b[0;34m\u001b[0m\u001b[0m\n\u001b[1;32m   1186\u001b[0m \u001b[0;34m\u001b[0m\u001b[0m\n",
      "\u001b[0;31mMemoryError\u001b[0m: "
     ]
    }
   ],
   "source": []
  },
  {
   "cell_type": "code",
   "execution_count": 114,
   "metadata": {},
   "outputs": [
    {
     "data": {
      "text/plain": [
       "(962721, 7)"
      ]
     },
     "execution_count": 114,
     "metadata": {},
     "output_type": "execute_result"
    }
   ],
   "source": [
    "X.shape"
   ]
  },
  {
   "cell_type": "code",
   "execution_count": 115,
   "metadata": {},
   "outputs": [],
   "source": [
    "X.dropna(inplace=True)"
   ]
  },
  {
   "cell_type": "code",
   "execution_count": 116,
   "metadata": {},
   "outputs": [
    {
     "data": {
      "text/plain": [
       "(962719, 7)"
      ]
     },
     "execution_count": 116,
     "metadata": {},
     "output_type": "execute_result"
    }
   ],
   "source": [
    "X.shape"
   ]
  },
  {
   "cell_type": "code",
   "execution_count": 156,
   "metadata": {},
   "outputs": [],
   "source": [
    "df = pd.read_csv('lane.csv')"
   ]
  },
  {
   "cell_type": "code",
   "execution_count": 157,
   "metadata": {},
   "outputs": [],
   "source": [
    "df.dropna(inplace=True)"
   ]
  },
  {
   "cell_type": "code",
   "execution_count": 158,
   "metadata": {},
   "outputs": [
    {
     "name": "stdout",
     "output_type": "stream",
     "text": [
      "(962721, 1)\n"
     ]
    }
   ],
   "source": [
    "print(df.shape)"
   ]
  },
  {
   "cell_type": "code",
   "execution_count": 130,
   "metadata": {},
   "outputs": [],
   "source": [
    "df.to_csv('lane2.csv',index=False)"
   ]
  },
  {
   "cell_type": "code",
   "execution_count": 146,
   "metadata": {},
   "outputs": [],
   "source": [
    "df = pd.read_csv('lane2.csv',delimiter=';',chunksize=100)"
   ]
  },
  {
   "cell_type": "code",
   "execution_count": 150,
   "metadata": {},
   "outputs": [],
   "source": [
    "ohe.fit(X)"
   ]
  },
  {
   "cell_type": "code",
   "execution_count": 136,
   "metadata": {},
   "outputs": [
    {
     "data": {
      "text/plain": [
       "Index(['vehicle_type', 'vehicle_id'], dtype='object')"
      ]
     },
     "execution_count": 136,
     "metadata": {},
     "output_type": "execute_result"
    }
   ],
   "source": [
    "X.columns[boolean_masking]"
   ]
  },
  {
   "cell_type": "code",
   "execution_count": 168,
   "metadata": {},
   "outputs": [],
   "source": [
    "from dummyPy import OneHotEncoder"
   ]
  },
  {
   "cell_type": "code",
   "execution_count": 169,
   "metadata": {},
   "outputs": [],
   "source": [
    "ohe = OneHotEncoder(categorical_columns=['vehicle_type','vehicle_id'])"
   ]
  },
  {
   "cell_type": "code",
   "execution_count": null,
   "metadata": {},
   "outputs": [],
   "source": []
  },
  {
   "cell_type": "code",
   "execution_count": 170,
   "metadata": {},
   "outputs": [],
   "source": [
    "df = pd.read_csv('lane2.csv',chunksize=1000)"
   ]
  },
  {
   "cell_type": "code",
   "execution_count": 171,
   "metadata": {},
   "outputs": [],
   "source": [
    "ohe.fit(df)"
   ]
  },
  {
   "cell_type": "code",
   "execution_count": 173,
   "metadata": {},
   "outputs": [
    {
     "ename": "AttributeError",
     "evalue": "'TextFileReader' object has no attribute 'columns'",
     "output_type": "error",
     "traceback": [
      "\u001b[0;31m---------------------------------------------------------------------------\u001b[0m",
      "\u001b[0;31mAttributeError\u001b[0m                            Traceback (most recent call last)",
      "\u001b[0;32m<ipython-input-173-502df1882614>\u001b[0m in \u001b[0;36m<module>\u001b[0;34m\u001b[0m\n\u001b[0;32m----> 1\u001b[0;31m \u001b[0mohe\u001b[0m\u001b[0;34m.\u001b[0m\u001b[0mtransform\u001b[0m\u001b[0;34m(\u001b[0m\u001b[0mdf\u001b[0m\u001b[0;34m)\u001b[0m\u001b[0;34m\u001b[0m\u001b[0;34m\u001b[0m\u001b[0m\n\u001b[0m",
      "\u001b[0;32m~/anaconda3/lib/python3.7/site-packages/dummyPy/dummyPy.py\u001b[0m in \u001b[0;36mtransform\u001b[0;34m(self, data, dtype)\u001b[0m\n\u001b[1;32m    156\u001b[0m                             \u001b[0;32mif\u001b[0m \u001b[0mcolumn_name\u001b[0m \u001b[0;32min\u001b[0m \u001b[0mself\u001b[0m\u001b[0;34m.\u001b[0m\u001b[0mcategorical_columns\u001b[0m\u001b[0;34m\u001b[0m\u001b[0;34m\u001b[0m\u001b[0m\n\u001b[1;32m    157\u001b[0m                             \u001b[0;32melse\u001b[0m \u001b[0mdata\u001b[0m\u001b[0;34m[\u001b[0m\u001b[0mcolumn_name\u001b[0m\u001b[0;34m]\u001b[0m\u001b[0;34m.\u001b[0m\u001b[0mvalues\u001b[0m\u001b[0;34m.\u001b[0m\u001b[0mreshape\u001b[0m\u001b[0;34m(\u001b[0m\u001b[0;34m-\u001b[0m\u001b[0;36m1\u001b[0m\u001b[0;34m,\u001b[0m \u001b[0;36m1\u001b[0m\u001b[0;34m)\u001b[0m\u001b[0;34m\u001b[0m\u001b[0;34m\u001b[0m\u001b[0m\n\u001b[0;32m--> 158\u001b[0;31m                             for column_name in data.columns]\n\u001b[0m\u001b[1;32m    159\u001b[0m         \u001b[0mtransformed_np_array\u001b[0m \u001b[0;34m=\u001b[0m \u001b[0mnp\u001b[0m\u001b[0;34m.\u001b[0m\u001b[0marray\u001b[0m\u001b[0;34m(\u001b[0m\u001b[0mnp\u001b[0m\u001b[0;34m.\u001b[0m\u001b[0mconcatenate\u001b[0m\u001b[0;34m(\u001b[0m\u001b[0mtransformed_data\u001b[0m\u001b[0;34m,\u001b[0m \u001b[0maxis\u001b[0m\u001b[0;34m=\u001b[0m\u001b[0;36m1\u001b[0m\u001b[0;34m)\u001b[0m\u001b[0;34m,\u001b[0m \u001b[0mdtype\u001b[0m\u001b[0;34m=\u001b[0m\u001b[0mobject\u001b[0m\u001b[0;34m)\u001b[0m\u001b[0;34m\u001b[0m\u001b[0;34m\u001b[0m\u001b[0m\n\u001b[1;32m    160\u001b[0m \u001b[0;34m\u001b[0m\u001b[0m\n",
      "\u001b[0;31mAttributeError\u001b[0m: 'TextFileReader' object has no attribute 'columns'"
     ]
    }
   ],
   "source": [
    "ohe.transform(df)"
   ]
  },
  {
   "cell_type": "code",
   "execution_count": 174,
   "metadata": {},
   "outputs": [
    {
     "data": {
      "text/plain": [
       "pandas.io.parsers.TextFileReader"
      ]
     },
     "execution_count": 174,
     "metadata": {},
     "output_type": "execute_result"
    }
   ],
   "source": [
    "type(df)"
   ]
  },
  {
   "cell_type": "code",
   "execution_count": null,
   "metadata": {},
   "outputs": [],
   "source": []
  }
 ],
 "metadata": {
  "kernelspec": {
   "display_name": "Python 3",
   "language": "python",
   "name": "python3"
  },
  "language_info": {
   "codemirror_mode": {
    "name": "ipython",
    "version": 3
   },
   "file_extension": ".py",
   "mimetype": "text/x-python",
   "name": "python",
   "nbconvert_exporter": "python",
   "pygments_lexer": "ipython3",
   "version": "3.7.1"
  }
 },
 "nbformat": 4,
 "nbformat_minor": 2
}
