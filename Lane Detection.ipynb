{
 "cells": [
  {
   "cell_type": "code",
   "execution_count": 230,
   "metadata": {},
   "outputs": [],
   "source": [
    "import numpy as np\n",
    "import matplotlib.pyplot as plt\n",
    "import pandas as pd"
   ]
  },
  {
   "cell_type": "code",
   "execution_count": 231,
   "metadata": {},
   "outputs": [],
   "source": [
    "df = pd.read_csv('lane2.csv')"
   ]
  },
  {
   "cell_type": "code",
   "execution_count": 232,
   "metadata": {},
   "outputs": [
    {
     "name": "stdout",
     "output_type": "stream",
     "text": [
      "(962719, 10)\n"
     ]
    }
   ],
   "source": [
    "print(df.shape)"
   ]
  },
  {
   "cell_type": "code",
   "execution_count": 233,
   "metadata": {},
   "outputs": [
    {
     "data": {
      "text/html": [
       "<div>\n",
       "<style scoped>\n",
       "    .dataframe tbody tr th:only-of-type {\n",
       "        vertical-align: middle;\n",
       "    }\n",
       "\n",
       "    .dataframe tbody tr th {\n",
       "        vertical-align: top;\n",
       "    }\n",
       "\n",
       "    .dataframe thead th {\n",
       "        text-align: right;\n",
       "    }\n",
       "</style>\n",
       "<table border=\"1\" class=\"dataframe\">\n",
       "  <thead>\n",
       "    <tr style=\"text-align: right;\">\n",
       "      <th></th>\n",
       "      <th>timestep_time</th>\n",
       "      <th>vehicle_slope</th>\n",
       "      <th>vehicle_lane</th>\n",
       "      <th>vehicle_angle</th>\n",
       "      <th>vehicle_type</th>\n",
       "      <th>vehicle_pos</th>\n",
       "      <th>vehicle_y</th>\n",
       "      <th>vehicle_x</th>\n",
       "      <th>vehicle_speed</th>\n",
       "      <th>vehicle_id</th>\n",
       "    </tr>\n",
       "  </thead>\n",
       "  <tbody>\n",
       "    <tr>\n",
       "      <th>0</th>\n",
       "      <td>0.0</td>\n",
       "      <td>0.0</td>\n",
       "      <td>-1356_0</td>\n",
       "      <td>-101.40</td>\n",
       "      <td>Bus</td>\n",
       "      <td>6.1</td>\n",
       "      <td>555.85</td>\n",
       "      <td>1588.94</td>\n",
       "      <td>0.0</td>\n",
       "      <td>BusFlowEastWest0.0</td>\n",
       "    </tr>\n",
       "    <tr>\n",
       "      <th>1</th>\n",
       "      <td>0.0</td>\n",
       "      <td>0.0</td>\n",
       "      <td>28925528_0</td>\n",
       "      <td>-44.63</td>\n",
       "      <td>Bus</td>\n",
       "      <td>6.1</td>\n",
       "      <td>722.81</td>\n",
       "      <td>1270.66</td>\n",
       "      <td>0.0</td>\n",
       "      <td>BusFlowNorthSouth0.0</td>\n",
       "    </tr>\n",
       "    <tr>\n",
       "      <th>2</th>\n",
       "      <td>0.0</td>\n",
       "      <td>0.0</td>\n",
       "      <td>239331354_0</td>\n",
       "      <td>160.22</td>\n",
       "      <td>Bus</td>\n",
       "      <td>6.1</td>\n",
       "      <td>471.48</td>\n",
       "      <td>1183.77</td>\n",
       "      <td>0.0</td>\n",
       "      <td>BusFlowSouthNorth0.0</td>\n",
       "    </tr>\n",
       "    <tr>\n",
       "      <th>3</th>\n",
       "      <td>0.0</td>\n",
       "      <td>0.0</td>\n",
       "      <td>-240120122_0</td>\n",
       "      <td>67.65</td>\n",
       "      <td>Bus</td>\n",
       "      <td>6.1</td>\n",
       "      <td>711.28</td>\n",
       "      <td>874.23</td>\n",
       "      <td>0.0</td>\n",
       "      <td>BusFlowWestEast0.0</td>\n",
       "    </tr>\n",
       "    <tr>\n",
       "      <th>4</th>\n",
       "      <td>0.0</td>\n",
       "      <td>0.0</td>\n",
       "      <td>-1274_0</td>\n",
       "      <td>16.81</td>\n",
       "      <td>Vehicle</td>\n",
       "      <td>4.1</td>\n",
       "      <td>517.45</td>\n",
       "      <td>1849.76</td>\n",
       "      <td>0.0</td>\n",
       "      <td>VehicleFlowEastToNorth.0</td>\n",
       "    </tr>\n",
       "  </tbody>\n",
       "</table>\n",
       "</div>"
      ],
      "text/plain": [
       "   timestep_time  vehicle_slope  vehicle_lane  vehicle_angle vehicle_type  \\\n",
       "0            0.0            0.0       -1356_0        -101.40          Bus   \n",
       "1            0.0            0.0    28925528_0         -44.63          Bus   \n",
       "2            0.0            0.0   239331354_0         160.22          Bus   \n",
       "3            0.0            0.0  -240120122_0          67.65          Bus   \n",
       "4            0.0            0.0       -1274_0          16.81      Vehicle   \n",
       "\n",
       "   vehicle_pos  vehicle_y  vehicle_x  vehicle_speed                vehicle_id  \n",
       "0          6.1     555.85    1588.94            0.0        BusFlowEastWest0.0  \n",
       "1          6.1     722.81    1270.66            0.0      BusFlowNorthSouth0.0  \n",
       "2          6.1     471.48    1183.77            0.0      BusFlowSouthNorth0.0  \n",
       "3          6.1     711.28     874.23            0.0        BusFlowWestEast0.0  \n",
       "4          4.1     517.45    1849.76            0.0  VehicleFlowEastToNorth.0  "
      ]
     },
     "execution_count": 233,
     "metadata": {},
     "output_type": "execute_result"
    }
   ],
   "source": [
    "df.head()"
   ]
  },
  {
   "cell_type": "code",
   "execution_count": 234,
   "metadata": {},
   "outputs": [],
   "source": [
    "from sklearn.utils import shuffle"
   ]
  },
  {
   "cell_type": "code",
   "execution_count": 235,
   "metadata": {},
   "outputs": [],
   "source": [
    "df = shuffle(df)"
   ]
  },
  {
   "cell_type": "code",
   "execution_count": 236,
   "metadata": {},
   "outputs": [],
   "source": [
    "df = df[:50000]"
   ]
  },
  {
   "cell_type": "code",
   "execution_count": 237,
   "metadata": {},
   "outputs": [
    {
     "name": "stdout",
     "output_type": "stream",
     "text": [
      "(50000, 10)\n"
     ]
    }
   ],
   "source": [
    "print(df.shape)"
   ]
  },
  {
   "cell_type": "code",
   "execution_count": 238,
   "metadata": {},
   "outputs": [],
   "source": [
    "Y = df.vehicle_lane"
   ]
  },
  {
   "cell_type": "code",
   "execution_count": 239,
   "metadata": {},
   "outputs": [
    {
     "name": "stdout",
     "output_type": "stream",
     "text": [
      "<class 'pandas.core.series.Series'>\n"
     ]
    }
   ],
   "source": [
    "print(type(Y))"
   ]
  },
  {
   "cell_type": "code",
   "execution_count": 240,
   "metadata": {},
   "outputs": [],
   "source": [
    "Y = pd.DataFrame(data=Y,columns=['vehicle_lane'])"
   ]
  },
  {
   "cell_type": "code",
   "execution_count": 241,
   "metadata": {},
   "outputs": [
    {
     "data": {
      "text/html": [
       "<div>\n",
       "<style scoped>\n",
       "    .dataframe tbody tr th:only-of-type {\n",
       "        vertical-align: middle;\n",
       "    }\n",
       "\n",
       "    .dataframe tbody tr th {\n",
       "        vertical-align: top;\n",
       "    }\n",
       "\n",
       "    .dataframe thead th {\n",
       "        text-align: right;\n",
       "    }\n",
       "</style>\n",
       "<table border=\"1\" class=\"dataframe\">\n",
       "  <thead>\n",
       "    <tr style=\"text-align: right;\">\n",
       "      <th></th>\n",
       "      <th>vehicle_lane</th>\n",
       "    </tr>\n",
       "  </thead>\n",
       "  <tbody>\n",
       "    <tr>\n",
       "      <th>586919</th>\n",
       "      <td>105490284_0</td>\n",
       "    </tr>\n",
       "    <tr>\n",
       "      <th>619157</th>\n",
       "      <td>-1328#0_1</td>\n",
       "    </tr>\n",
       "    <tr>\n",
       "      <th>797183</th>\n",
       "      <td>105490279#1_1</td>\n",
       "    </tr>\n",
       "    <tr>\n",
       "      <th>489132</th>\n",
       "      <td>-1326#2_0</td>\n",
       "    </tr>\n",
       "    <tr>\n",
       "      <th>207215</th>\n",
       "      <td>-1352_1</td>\n",
       "    </tr>\n",
       "  </tbody>\n",
       "</table>\n",
       "</div>"
      ],
      "text/plain": [
       "         vehicle_lane\n",
       "586919    105490284_0\n",
       "619157      -1328#0_1\n",
       "797183  105490279#1_1\n",
       "489132      -1326#2_0\n",
       "207215        -1352_1"
      ]
     },
     "execution_count": 241,
     "metadata": {},
     "output_type": "execute_result"
    }
   ],
   "source": [
    "Y.head()"
   ]
  },
  {
   "cell_type": "code",
   "execution_count": 242,
   "metadata": {},
   "outputs": [],
   "source": [
    "df = df.drop(labels=['vehicle_lane'],axis=1)"
   ]
  },
  {
   "cell_type": "code",
   "execution_count": 243,
   "metadata": {},
   "outputs": [
    {
     "name": "stdout",
     "output_type": "stream",
     "text": [
      "(50000, 9)\n"
     ]
    }
   ],
   "source": [
    "print(df.shape)"
   ]
  },
  {
   "cell_type": "code",
   "execution_count": 244,
   "metadata": {},
   "outputs": [
    {
     "data": {
      "text/html": [
       "<div>\n",
       "<style scoped>\n",
       "    .dataframe tbody tr th:only-of-type {\n",
       "        vertical-align: middle;\n",
       "    }\n",
       "\n",
       "    .dataframe tbody tr th {\n",
       "        vertical-align: top;\n",
       "    }\n",
       "\n",
       "    .dataframe thead th {\n",
       "        text-align: right;\n",
       "    }\n",
       "</style>\n",
       "<table border=\"1\" class=\"dataframe\">\n",
       "  <thead>\n",
       "    <tr style=\"text-align: right;\">\n",
       "      <th></th>\n",
       "      <th>timestep_time</th>\n",
       "      <th>vehicle_slope</th>\n",
       "      <th>vehicle_angle</th>\n",
       "      <th>vehicle_type</th>\n",
       "      <th>vehicle_pos</th>\n",
       "      <th>vehicle_y</th>\n",
       "      <th>vehicle_x</th>\n",
       "      <th>vehicle_speed</th>\n",
       "      <th>vehicle_id</th>\n",
       "    </tr>\n",
       "  </thead>\n",
       "  <tbody>\n",
       "    <tr>\n",
       "      <th>586919</th>\n",
       "      <td>4511.0</td>\n",
       "      <td>0.0</td>\n",
       "      <td>171.50</td>\n",
       "      <td>Vehicle</td>\n",
       "      <td>12.05</td>\n",
       "      <td>648.90</td>\n",
       "      <td>1249.54</td>\n",
       "      <td>13.45</td>\n",
       "      <td>VehicleFlowWestToNorth4.67</td>\n",
       "    </tr>\n",
       "    <tr>\n",
       "      <th>619157</th>\n",
       "      <td>4694.0</td>\n",
       "      <td>0.0</td>\n",
       "      <td>29.84</td>\n",
       "      <td>Vehicle</td>\n",
       "      <td>162.24</td>\n",
       "      <td>897.39</td>\n",
       "      <td>658.04</td>\n",
       "      <td>12.89</td>\n",
       "      <td>VehicleFlowWestToEast6.17</td>\n",
       "    </tr>\n",
       "    <tr>\n",
       "      <th>797183</th>\n",
       "      <td>5857.0</td>\n",
       "      <td>0.0</td>\n",
       "      <td>71.99</td>\n",
       "      <td>Vehicle</td>\n",
       "      <td>238.92</td>\n",
       "      <td>462.82</td>\n",
       "      <td>1469.27</td>\n",
       "      <td>13.68</td>\n",
       "      <td>VehicleFlowWestToEast5.27</td>\n",
       "    </tr>\n",
       "    <tr>\n",
       "      <th>489132</th>\n",
       "      <td>3877.0</td>\n",
       "      <td>0.0</td>\n",
       "      <td>-160.21</td>\n",
       "      <td>Vehicle</td>\n",
       "      <td>139.95</td>\n",
       "      <td>1191.16</td>\n",
       "      <td>563.51</td>\n",
       "      <td>23.85</td>\n",
       "      <td>VehicleFlowNorthToWest4.6</td>\n",
       "    </tr>\n",
       "    <tr>\n",
       "      <th>207215</th>\n",
       "      <td>1571.0</td>\n",
       "      <td>0.0</td>\n",
       "      <td>30.86</td>\n",
       "      <td>Vehicle</td>\n",
       "      <td>1.51</td>\n",
       "      <td>584.11</td>\n",
       "      <td>1213.33</td>\n",
       "      <td>0.02</td>\n",
       "      <td>VehicleFlowWestToEast1_0.65</td>\n",
       "    </tr>\n",
       "  </tbody>\n",
       "</table>\n",
       "</div>"
      ],
      "text/plain": [
       "        timestep_time  vehicle_slope  vehicle_angle vehicle_type  vehicle_pos  \\\n",
       "586919         4511.0            0.0         171.50      Vehicle        12.05   \n",
       "619157         4694.0            0.0          29.84      Vehicle       162.24   \n",
       "797183         5857.0            0.0          71.99      Vehicle       238.92   \n",
       "489132         3877.0            0.0        -160.21      Vehicle       139.95   \n",
       "207215         1571.0            0.0          30.86      Vehicle         1.51   \n",
       "\n",
       "        vehicle_y  vehicle_x  vehicle_speed                   vehicle_id  \n",
       "586919     648.90    1249.54          13.45   VehicleFlowWestToNorth4.67  \n",
       "619157     897.39     658.04          12.89    VehicleFlowWestToEast6.17  \n",
       "797183     462.82    1469.27          13.68    VehicleFlowWestToEast5.27  \n",
       "489132    1191.16     563.51          23.85    VehicleFlowNorthToWest4.6  \n",
       "207215     584.11    1213.33           0.02  VehicleFlowWestToEast1_0.65  "
      ]
     },
     "execution_count": 244,
     "metadata": {},
     "output_type": "execute_result"
    }
   ],
   "source": [
    "df.head()"
   ]
  },
  {
   "cell_type": "code",
   "execution_count": 245,
   "metadata": {},
   "outputs": [],
   "source": [
    "df = df.drop(labels = ['timestep_time'],axis=1)"
   ]
  },
  {
   "cell_type": "code",
   "execution_count": 246,
   "metadata": {},
   "outputs": [],
   "source": [
    "df = df.drop(labels = ['vehicle_slope'],axis=1)"
   ]
  },
  {
   "cell_type": "code",
   "execution_count": 247,
   "metadata": {},
   "outputs": [
    {
     "name": "stdout",
     "output_type": "stream",
     "text": [
      "(50000, 7)\n"
     ]
    }
   ],
   "source": [
    "print(df.shape)"
   ]
  },
  {
   "cell_type": "code",
   "execution_count": 248,
   "metadata": {},
   "outputs": [
    {
     "data": {
      "text/html": [
       "<div>\n",
       "<style scoped>\n",
       "    .dataframe tbody tr th:only-of-type {\n",
       "        vertical-align: middle;\n",
       "    }\n",
       "\n",
       "    .dataframe tbody tr th {\n",
       "        vertical-align: top;\n",
       "    }\n",
       "\n",
       "    .dataframe thead th {\n",
       "        text-align: right;\n",
       "    }\n",
       "</style>\n",
       "<table border=\"1\" class=\"dataframe\">\n",
       "  <thead>\n",
       "    <tr style=\"text-align: right;\">\n",
       "      <th></th>\n",
       "      <th>vehicle_angle</th>\n",
       "      <th>vehicle_type</th>\n",
       "      <th>vehicle_pos</th>\n",
       "      <th>vehicle_y</th>\n",
       "      <th>vehicle_x</th>\n",
       "      <th>vehicle_speed</th>\n",
       "      <th>vehicle_id</th>\n",
       "    </tr>\n",
       "  </thead>\n",
       "  <tbody>\n",
       "    <tr>\n",
       "      <th>586919</th>\n",
       "      <td>171.50</td>\n",
       "      <td>Vehicle</td>\n",
       "      <td>12.05</td>\n",
       "      <td>648.90</td>\n",
       "      <td>1249.54</td>\n",
       "      <td>13.45</td>\n",
       "      <td>VehicleFlowWestToNorth4.67</td>\n",
       "    </tr>\n",
       "    <tr>\n",
       "      <th>619157</th>\n",
       "      <td>29.84</td>\n",
       "      <td>Vehicle</td>\n",
       "      <td>162.24</td>\n",
       "      <td>897.39</td>\n",
       "      <td>658.04</td>\n",
       "      <td>12.89</td>\n",
       "      <td>VehicleFlowWestToEast6.17</td>\n",
       "    </tr>\n",
       "    <tr>\n",
       "      <th>797183</th>\n",
       "      <td>71.99</td>\n",
       "      <td>Vehicle</td>\n",
       "      <td>238.92</td>\n",
       "      <td>462.82</td>\n",
       "      <td>1469.27</td>\n",
       "      <td>13.68</td>\n",
       "      <td>VehicleFlowWestToEast5.27</td>\n",
       "    </tr>\n",
       "    <tr>\n",
       "      <th>489132</th>\n",
       "      <td>-160.21</td>\n",
       "      <td>Vehicle</td>\n",
       "      <td>139.95</td>\n",
       "      <td>1191.16</td>\n",
       "      <td>563.51</td>\n",
       "      <td>23.85</td>\n",
       "      <td>VehicleFlowNorthToWest4.6</td>\n",
       "    </tr>\n",
       "    <tr>\n",
       "      <th>207215</th>\n",
       "      <td>30.86</td>\n",
       "      <td>Vehicle</td>\n",
       "      <td>1.51</td>\n",
       "      <td>584.11</td>\n",
       "      <td>1213.33</td>\n",
       "      <td>0.02</td>\n",
       "      <td>VehicleFlowWestToEast1_0.65</td>\n",
       "    </tr>\n",
       "  </tbody>\n",
       "</table>\n",
       "</div>"
      ],
      "text/plain": [
       "        vehicle_angle vehicle_type  vehicle_pos  vehicle_y  vehicle_x  \\\n",
       "586919         171.50      Vehicle        12.05     648.90    1249.54   \n",
       "619157          29.84      Vehicle       162.24     897.39     658.04   \n",
       "797183          71.99      Vehicle       238.92     462.82    1469.27   \n",
       "489132        -160.21      Vehicle       139.95    1191.16     563.51   \n",
       "207215          30.86      Vehicle         1.51     584.11    1213.33   \n",
       "\n",
       "        vehicle_speed                   vehicle_id  \n",
       "586919          13.45   VehicleFlowWestToNorth4.67  \n",
       "619157          12.89    VehicleFlowWestToEast6.17  \n",
       "797183          13.68    VehicleFlowWestToEast5.27  \n",
       "489132          23.85    VehicleFlowNorthToWest4.6  \n",
       "207215           0.02  VehicleFlowWestToEast1_0.65  "
      ]
     },
     "execution_count": 248,
     "metadata": {},
     "output_type": "execute_result"
    }
   ],
   "source": [
    "df.head()"
   ]
  },
  {
   "cell_type": "code",
   "execution_count": 249,
   "metadata": {},
   "outputs": [
    {
     "name": "stdout",
     "output_type": "stream",
     "text": [
      "Index(['vehicle_angle', 'vehicle_type', 'vehicle_pos', 'vehicle_y',\n",
      "       'vehicle_x', 'vehicle_speed', 'vehicle_id'],\n",
      "      dtype='object')\n"
     ]
    }
   ],
   "source": [
    "print(df.columns)"
   ]
  },
  {
   "cell_type": "code",
   "execution_count": 250,
   "metadata": {},
   "outputs": [
    {
     "name": "stdout",
     "output_type": "stream",
     "text": [
      "vehicle_angle    float64\n",
      "vehicle_type      object\n",
      "vehicle_pos      float64\n",
      "vehicle_y        float64\n",
      "vehicle_x        float64\n",
      "vehicle_speed    float64\n",
      "vehicle_id        object\n",
      "dtype: object\n"
     ]
    }
   ],
   "source": [
    "print(df.dtypes)"
   ]
  },
  {
   "cell_type": "code",
   "execution_count": 251,
   "metadata": {},
   "outputs": [],
   "source": [
    "categorical_encoding = df.dtypes == 'object'"
   ]
  },
  {
   "cell_type": "code",
   "execution_count": 252,
   "metadata": {},
   "outputs": [
    {
     "name": "stdout",
     "output_type": "stream",
     "text": [
      "vehicle_angle    False\n",
      "vehicle_type      True\n",
      "vehicle_pos      False\n",
      "vehicle_y        False\n",
      "vehicle_x        False\n",
      "vehicle_speed    False\n",
      "vehicle_id        True\n",
      "dtype: bool\n"
     ]
    }
   ],
   "source": [
    "print(categorical_encoding)"
   ]
  },
  {
   "cell_type": "code",
   "execution_count": 253,
   "metadata": {},
   "outputs": [],
   "source": [
    "categorical_columns = df.columns[categorical_encoding].tolist()"
   ]
  },
  {
   "cell_type": "code",
   "execution_count": 254,
   "metadata": {},
   "outputs": [
    {
     "name": "stdout",
     "output_type": "stream",
     "text": [
      "['vehicle_type', 'vehicle_id']\n"
     ]
    }
   ],
   "source": [
    "print(categorical_columns)"
   ]
  },
  {
   "cell_type": "code",
   "execution_count": 255,
   "metadata": {},
   "outputs": [
    {
     "data": {
      "text/html": [
       "<div>\n",
       "<style scoped>\n",
       "    .dataframe tbody tr th:only-of-type {\n",
       "        vertical-align: middle;\n",
       "    }\n",
       "\n",
       "    .dataframe tbody tr th {\n",
       "        vertical-align: top;\n",
       "    }\n",
       "\n",
       "    .dataframe thead th {\n",
       "        text-align: right;\n",
       "    }\n",
       "</style>\n",
       "<table border=\"1\" class=\"dataframe\">\n",
       "  <thead>\n",
       "    <tr style=\"text-align: right;\">\n",
       "      <th></th>\n",
       "      <th>vehicle_angle</th>\n",
       "      <th>vehicle_type</th>\n",
       "      <th>vehicle_pos</th>\n",
       "      <th>vehicle_y</th>\n",
       "      <th>vehicle_x</th>\n",
       "      <th>vehicle_speed</th>\n",
       "      <th>vehicle_id</th>\n",
       "    </tr>\n",
       "  </thead>\n",
       "  <tbody>\n",
       "    <tr>\n",
       "      <th>586919</th>\n",
       "      <td>171.50</td>\n",
       "      <td>Vehicle</td>\n",
       "      <td>12.05</td>\n",
       "      <td>648.90</td>\n",
       "      <td>1249.54</td>\n",
       "      <td>13.45</td>\n",
       "      <td>VehicleFlowWestToNorth4.67</td>\n",
       "    </tr>\n",
       "    <tr>\n",
       "      <th>619157</th>\n",
       "      <td>29.84</td>\n",
       "      <td>Vehicle</td>\n",
       "      <td>162.24</td>\n",
       "      <td>897.39</td>\n",
       "      <td>658.04</td>\n",
       "      <td>12.89</td>\n",
       "      <td>VehicleFlowWestToEast6.17</td>\n",
       "    </tr>\n",
       "    <tr>\n",
       "      <th>797183</th>\n",
       "      <td>71.99</td>\n",
       "      <td>Vehicle</td>\n",
       "      <td>238.92</td>\n",
       "      <td>462.82</td>\n",
       "      <td>1469.27</td>\n",
       "      <td>13.68</td>\n",
       "      <td>VehicleFlowWestToEast5.27</td>\n",
       "    </tr>\n",
       "    <tr>\n",
       "      <th>489132</th>\n",
       "      <td>-160.21</td>\n",
       "      <td>Vehicle</td>\n",
       "      <td>139.95</td>\n",
       "      <td>1191.16</td>\n",
       "      <td>563.51</td>\n",
       "      <td>23.85</td>\n",
       "      <td>VehicleFlowNorthToWest4.6</td>\n",
       "    </tr>\n",
       "    <tr>\n",
       "      <th>207215</th>\n",
       "      <td>30.86</td>\n",
       "      <td>Vehicle</td>\n",
       "      <td>1.51</td>\n",
       "      <td>584.11</td>\n",
       "      <td>1213.33</td>\n",
       "      <td>0.02</td>\n",
       "      <td>VehicleFlowWestToEast1_0.65</td>\n",
       "    </tr>\n",
       "  </tbody>\n",
       "</table>\n",
       "</div>"
      ],
      "text/plain": [
       "        vehicle_angle vehicle_type  vehicle_pos  vehicle_y  vehicle_x  \\\n",
       "586919         171.50      Vehicle        12.05     648.90    1249.54   \n",
       "619157          29.84      Vehicle       162.24     897.39     658.04   \n",
       "797183          71.99      Vehicle       238.92     462.82    1469.27   \n",
       "489132        -160.21      Vehicle       139.95    1191.16     563.51   \n",
       "207215          30.86      Vehicle         1.51     584.11    1213.33   \n",
       "\n",
       "        vehicle_speed                   vehicle_id  \n",
       "586919          13.45   VehicleFlowWestToNorth4.67  \n",
       "619157          12.89    VehicleFlowWestToEast6.17  \n",
       "797183          13.68    VehicleFlowWestToEast5.27  \n",
       "489132          23.85    VehicleFlowNorthToWest4.6  \n",
       "207215           0.02  VehicleFlowWestToEast1_0.65  "
      ]
     },
     "execution_count": 255,
     "metadata": {},
     "output_type": "execute_result"
    }
   ],
   "source": [
    "df.head()"
   ]
  },
  {
   "cell_type": "code",
   "execution_count": 256,
   "metadata": {},
   "outputs": [],
   "source": [
    "from sklearn.preprocessing import LabelEncoder"
   ]
  },
  {
   "cell_type": "code",
   "execution_count": 257,
   "metadata": {},
   "outputs": [],
   "source": [
    "le1 = LabelEncoder()\n",
    "le2 = LabelEncoder()"
   ]
  },
  {
   "cell_type": "code",
   "execution_count": 258,
   "metadata": {},
   "outputs": [],
   "source": [
    "df['vehicle_type'] = le1.fit_transform(df['vehicle_type'])"
   ]
  },
  {
   "cell_type": "code",
   "execution_count": 259,
   "metadata": {},
   "outputs": [],
   "source": [
    "df['vehicle_id'] = le2.fit_transform(df['vehicle_id'])"
   ]
  },
  {
   "cell_type": "code",
   "execution_count": 260,
   "metadata": {},
   "outputs": [
    {
     "data": {
      "text/html": [
       "<div>\n",
       "<style scoped>\n",
       "    .dataframe tbody tr th:only-of-type {\n",
       "        vertical-align: middle;\n",
       "    }\n",
       "\n",
       "    .dataframe tbody tr th {\n",
       "        vertical-align: top;\n",
       "    }\n",
       "\n",
       "    .dataframe thead th {\n",
       "        text-align: right;\n",
       "    }\n",
       "</style>\n",
       "<table border=\"1\" class=\"dataframe\">\n",
       "  <thead>\n",
       "    <tr style=\"text-align: right;\">\n",
       "      <th></th>\n",
       "      <th>vehicle_angle</th>\n",
       "      <th>vehicle_type</th>\n",
       "      <th>vehicle_pos</th>\n",
       "      <th>vehicle_y</th>\n",
       "      <th>vehicle_x</th>\n",
       "      <th>vehicle_speed</th>\n",
       "      <th>vehicle_id</th>\n",
       "    </tr>\n",
       "  </thead>\n",
       "  <tbody>\n",
       "    <tr>\n",
       "      <th>586919</th>\n",
       "      <td>171.50</td>\n",
       "      <td>1</td>\n",
       "      <td>12.05</td>\n",
       "      <td>648.90</td>\n",
       "      <td>1249.54</td>\n",
       "      <td>13.45</td>\n",
       "      <td>4860</td>\n",
       "    </tr>\n",
       "    <tr>\n",
       "      <th>619157</th>\n",
       "      <td>29.84</td>\n",
       "      <td>1</td>\n",
       "      <td>162.24</td>\n",
       "      <td>897.39</td>\n",
       "      <td>658.04</td>\n",
       "      <td>12.89</td>\n",
       "      <td>4129</td>\n",
       "    </tr>\n",
       "    <tr>\n",
       "      <th>797183</th>\n",
       "      <td>71.99</td>\n",
       "      <td>1</td>\n",
       "      <td>238.92</td>\n",
       "      <td>462.82</td>\n",
       "      <td>1469.27</td>\n",
       "      <td>13.68</td>\n",
       "      <td>3955</td>\n",
       "    </tr>\n",
       "    <tr>\n",
       "      <th>489132</th>\n",
       "      <td>-160.21</td>\n",
       "      <td>1</td>\n",
       "      <td>139.95</td>\n",
       "      <td>1191.16</td>\n",
       "      <td>563.51</td>\n",
       "      <td>23.85</td>\n",
       "      <td>2139</td>\n",
       "    </tr>\n",
       "    <tr>\n",
       "      <th>207215</th>\n",
       "      <td>30.86</td>\n",
       "      <td>1</td>\n",
       "      <td>1.51</td>\n",
       "      <td>584.11</td>\n",
       "      <td>1213.33</td>\n",
       "      <td>0.02</td>\n",
       "      <td>3402</td>\n",
       "    </tr>\n",
       "  </tbody>\n",
       "</table>\n",
       "</div>"
      ],
      "text/plain": [
       "        vehicle_angle  vehicle_type  vehicle_pos  vehicle_y  vehicle_x  \\\n",
       "586919         171.50             1        12.05     648.90    1249.54   \n",
       "619157          29.84             1       162.24     897.39     658.04   \n",
       "797183          71.99             1       238.92     462.82    1469.27   \n",
       "489132        -160.21             1       139.95    1191.16     563.51   \n",
       "207215          30.86             1         1.51     584.11    1213.33   \n",
       "\n",
       "        vehicle_speed  vehicle_id  \n",
       "586919          13.45        4860  \n",
       "619157          12.89        4129  \n",
       "797183          13.68        3955  \n",
       "489132          23.85        2139  \n",
       "207215           0.02        3402  "
      ]
     },
     "execution_count": 260,
     "metadata": {},
     "output_type": "execute_result"
    }
   ],
   "source": [
    "df.head()"
   ]
  },
  {
   "cell_type": "code",
   "execution_count": 261,
   "metadata": {},
   "outputs": [
    {
     "data": {
      "text/plain": [
       "2"
      ]
     },
     "execution_count": 261,
     "metadata": {},
     "output_type": "execute_result"
    }
   ],
   "source": [
    "len(df['vehicle_type'].unique())"
   ]
  },
  {
   "cell_type": "code",
   "execution_count": 262,
   "metadata": {},
   "outputs": [
    {
     "data": {
      "text/plain": [
       "5099"
      ]
     },
     "execution_count": 262,
     "metadata": {},
     "output_type": "execute_result"
    }
   ],
   "source": [
    "len(df['vehicle_id'].unique())"
   ]
  },
  {
   "cell_type": "code",
   "execution_count": 263,
   "metadata": {},
   "outputs": [],
   "source": [
    "from sklearn.preprocessing import OneHotEncoder"
   ]
  },
  {
   "cell_type": "code",
   "execution_count": 267,
   "metadata": {},
   "outputs": [],
   "source": [
    "ohe = OneHotEncoder(categorical_features=categorical_encoding,sparse=False)"
   ]
  },
  {
   "cell_type": "code",
   "execution_count": 268,
   "metadata": {},
   "outputs": [
    {
     "name": "stderr",
     "output_type": "stream",
     "text": [
      "/home/yatin/anaconda3/lib/python3.7/site-packages/sklearn/preprocessing/_encoders.py:368: FutureWarning: The handling of integer data will change in version 0.22. Currently, the categories are determined based on the range [0, max(values)], while in the future they will be determined based on the unique values.\n",
      "If you want the future behaviour and silence this warning, you can specify \"categories='auto'\".\n",
      "In case you used a LabelEncoder before this OneHotEncoder to convert the categories to integers, then you can now use the OneHotEncoder directly.\n",
      "  warnings.warn(msg, FutureWarning)\n"
     ]
    }
   ],
   "source": [
    "np = ohe.fit_transform(df)"
   ]
  },
  {
   "cell_type": "code",
   "execution_count": 271,
   "metadata": {},
   "outputs": [
    {
     "name": "stdout",
     "output_type": "stream",
     "text": [
      "(50000, 5106)\n"
     ]
    }
   ],
   "source": [
    "print(np.shape)"
   ]
  },
  {
   "cell_type": "code",
   "execution_count": 272,
   "metadata": {},
   "outputs": [
    {
     "name": "stdout",
     "output_type": "stream",
     "text": [
      "(50000, 7)\n"
     ]
    }
   ],
   "source": [
    "print(df.shape)"
   ]
  },
  {
   "cell_type": "code",
   "execution_count": 273,
   "metadata": {},
   "outputs": [],
   "source": [
    "from sklearn.neighbors import KNeighborsClassifier"
   ]
  },
  {
   "cell_type": "code",
   "execution_count": 277,
   "metadata": {},
   "outputs": [],
   "source": [
    "knn = KNeighborsClassifier(n_neighbors=7)"
   ]
  },
  {
   "cell_type": "code",
   "execution_count": 275,
   "metadata": {},
   "outputs": [
    {
     "name": "stdout",
     "output_type": "stream",
     "text": [
      "(50000, 5106)\n"
     ]
    }
   ],
   "source": [
    "print(np.shape)"
   ]
  },
  {
   "cell_type": "code",
   "execution_count": 276,
   "metadata": {},
   "outputs": [
    {
     "name": "stdout",
     "output_type": "stream",
     "text": [
      "(50000, 1)\n"
     ]
    }
   ],
   "source": [
    "print(Y.shape)"
   ]
  },
  {
   "cell_type": "code",
   "execution_count": 278,
   "metadata": {},
   "outputs": [
    {
     "name": "stderr",
     "output_type": "stream",
     "text": [
      "/home/yatin/anaconda3/lib/python3.7/site-packages/ipykernel_launcher.py:1: DataConversionWarning: A column-vector y was passed when a 1d array was expected. Please change the shape of y to (n_samples, ), for example using ravel().\n",
      "  \"\"\"Entry point for launching an IPython kernel.\n"
     ]
    },
    {
     "data": {
      "text/plain": [
       "KNeighborsClassifier(algorithm='auto', leaf_size=30, metric='minkowski',\n",
       "           metric_params=None, n_jobs=None, n_neighbors=7, p=2,\n",
       "           weights='uniform')"
      ]
     },
     "execution_count": 278,
     "metadata": {},
     "output_type": "execute_result"
    }
   ],
   "source": [
    "knn.fit(np,Y)"
   ]
  },
  {
   "cell_type": "code",
   "execution_count": 279,
   "metadata": {},
   "outputs": [
    {
     "data": {
      "text/plain": [
       "array(['105490284_0', '-1328#0_1', '105490279#1_1', '-1326#2_0',\n",
       "       '-1352_1'], dtype=object)"
      ]
     },
     "execution_count": 279,
     "metadata": {},
     "output_type": "execute_result"
    }
   ],
   "source": [
    "knn.predict(np[0:5])"
   ]
  },
  {
   "cell_type": "code",
   "execution_count": 280,
   "metadata": {},
   "outputs": [
    {
     "name": "stdout",
     "output_type": "stream",
     "text": [
      "         vehicle_lane\n",
      "586919    105490284_0\n",
      "619157      -1328#0_1\n",
      "797183  105490279#1_1\n",
      "489132      -1326#2_0\n",
      "207215        -1352_1\n"
     ]
    }
   ],
   "source": [
    "print(Y[0:5])"
   ]
  },
  {
   "cell_type": "code",
   "execution_count": 281,
   "metadata": {},
   "outputs": [
    {
     "data": {
      "text/plain": [
       "0.98338"
      ]
     },
     "execution_count": 281,
     "metadata": {},
     "output_type": "execute_result"
    }
   ],
   "source": [
    "knn.score(np,Y)"
   ]
  },
  {
   "cell_type": "code",
   "execution_count": 282,
   "metadata": {},
   "outputs": [],
   "source": [
    "from sklearn.linear_model import LogisticRegression"
   ]
  },
  {
   "cell_type": "code",
   "execution_count": 283,
   "metadata": {},
   "outputs": [],
   "source": [
    "lr = LogisticRegression()"
   ]
  },
  {
   "cell_type": "code",
   "execution_count": 284,
   "metadata": {},
   "outputs": [
    {
     "name": "stderr",
     "output_type": "stream",
     "text": [
      "/home/yatin/anaconda3/lib/python3.7/site-packages/sklearn/linear_model/logistic.py:433: FutureWarning: Default solver will be changed to 'lbfgs' in 0.22. Specify a solver to silence this warning.\n",
      "  FutureWarning)\n",
      "/home/yatin/anaconda3/lib/python3.7/site-packages/sklearn/utils/validation.py:761: DataConversionWarning: A column-vector y was passed when a 1d array was expected. Please change the shape of y to (n_samples, ), for example using ravel().\n",
      "  y = column_or_1d(y, warn=True)\n",
      "/home/yatin/anaconda3/lib/python3.7/site-packages/sklearn/linear_model/logistic.py:460: FutureWarning: Default multi_class will be changed to 'auto' in 0.22. Specify the multi_class option to silence this warning.\n",
      "  \"this warning.\", FutureWarning)\n"
     ]
    },
    {
     "data": {
      "text/plain": [
       "LogisticRegression(C=1.0, class_weight=None, dual=False, fit_intercept=True,\n",
       "          intercept_scaling=1, max_iter=100, multi_class='warn',\n",
       "          n_jobs=None, penalty='l2', random_state=None, solver='warn',\n",
       "          tol=0.0001, verbose=0, warm_start=False)"
      ]
     },
     "execution_count": 284,
     "metadata": {},
     "output_type": "execute_result"
    }
   ],
   "source": [
    "lr.fit(np,Y)"
   ]
  },
  {
   "cell_type": "code",
   "execution_count": 285,
   "metadata": {},
   "outputs": [
    {
     "data": {
      "text/plain": [
       "0.74668"
      ]
     },
     "execution_count": 285,
     "metadata": {},
     "output_type": "execute_result"
    }
   ],
   "source": [
    "lr.score(np,Y)"
   ]
  },
  {
   "cell_type": "code",
   "execution_count": null,
   "metadata": {},
   "outputs": [],
   "source": []
  }
 ],
 "metadata": {
  "kernelspec": {
   "display_name": "Python 3",
   "language": "python",
   "name": "python3"
  },
  "language_info": {
   "codemirror_mode": {
    "name": "ipython",
    "version": 3
   },
   "file_extension": ".py",
   "mimetype": "text/x-python",
   "name": "python",
   "nbconvert_exporter": "python",
   "pygments_lexer": "ipython3",
   "version": "3.7.1"
  }
 },
 "nbformat": 4,
 "nbformat_minor": 2
}
