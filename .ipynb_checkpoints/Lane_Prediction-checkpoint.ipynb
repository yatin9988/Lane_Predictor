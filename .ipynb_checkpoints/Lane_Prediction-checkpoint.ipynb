{
 "cells": [
  {
   "cell_type": "code",
   "execution_count": 44,
   "metadata": {},
   "outputs": [],
   "source": [
    "import numpy as np\n",
    "import matplotlib.pyplot as plt\n",
    "import pandas as pd"
   ]
  },
  {
   "cell_type": "code",
   "execution_count": 45,
   "metadata": {},
   "outputs": [],
   "source": [
    "df = pd.read_csv('lane.csv',delimiter=\";\")"
   ]
  },
  {
   "cell_type": "code",
   "execution_count": 46,
   "metadata": {},
   "outputs": [
    {
     "name": "stdout",
     "output_type": "stream",
     "text": [
      "(962721, 10)\n"
     ]
    }
   ],
   "source": [
    "print(df.shape)"
   ]
  },
  {
   "cell_type": "code",
   "execution_count": 47,
   "metadata": {},
   "outputs": [],
   "source": [
    "Y = df['vehicle_lane']"
   ]
  },
  {
   "cell_type": "code",
   "execution_count": 48,
   "metadata": {},
   "outputs": [
    {
     "data": {
      "text/html": [
       "<div>\n",
       "<style scoped>\n",
       "    .dataframe tbody tr th:only-of-type {\n",
       "        vertical-align: middle;\n",
       "    }\n",
       "\n",
       "    .dataframe tbody tr th {\n",
       "        vertical-align: top;\n",
       "    }\n",
       "\n",
       "    .dataframe thead th {\n",
       "        text-align: right;\n",
       "    }\n",
       "</style>\n",
       "<table border=\"1\" class=\"dataframe\">\n",
       "  <thead>\n",
       "    <tr style=\"text-align: right;\">\n",
       "      <th></th>\n",
       "      <th>timestep_time</th>\n",
       "      <th>vehicle_slope</th>\n",
       "      <th>vehicle_lane</th>\n",
       "      <th>vehicle_angle</th>\n",
       "      <th>vehicle_type</th>\n",
       "      <th>vehicle_pos</th>\n",
       "      <th>vehicle_y</th>\n",
       "      <th>vehicle_x</th>\n",
       "      <th>vehicle_speed</th>\n",
       "      <th>vehicle_id</th>\n",
       "    </tr>\n",
       "  </thead>\n",
       "  <tbody>\n",
       "    <tr>\n",
       "      <th>0</th>\n",
       "      <td>0.0</td>\n",
       "      <td>0.0</td>\n",
       "      <td>-1356_0</td>\n",
       "      <td>-101.40</td>\n",
       "      <td>Bus</td>\n",
       "      <td>6.1</td>\n",
       "      <td>555.85</td>\n",
       "      <td>1588.94</td>\n",
       "      <td>0.0</td>\n",
       "      <td>BusFlowEastWest0.0</td>\n",
       "    </tr>\n",
       "    <tr>\n",
       "      <th>1</th>\n",
       "      <td>0.0</td>\n",
       "      <td>0.0</td>\n",
       "      <td>28925528_0</td>\n",
       "      <td>-44.63</td>\n",
       "      <td>Bus</td>\n",
       "      <td>6.1</td>\n",
       "      <td>722.81</td>\n",
       "      <td>1270.66</td>\n",
       "      <td>0.0</td>\n",
       "      <td>BusFlowNorthSouth0.0</td>\n",
       "    </tr>\n",
       "    <tr>\n",
       "      <th>2</th>\n",
       "      <td>0.0</td>\n",
       "      <td>0.0</td>\n",
       "      <td>239331354_0</td>\n",
       "      <td>160.22</td>\n",
       "      <td>Bus</td>\n",
       "      <td>6.1</td>\n",
       "      <td>471.48</td>\n",
       "      <td>1183.77</td>\n",
       "      <td>0.0</td>\n",
       "      <td>BusFlowSouthNorth0.0</td>\n",
       "    </tr>\n",
       "    <tr>\n",
       "      <th>3</th>\n",
       "      <td>0.0</td>\n",
       "      <td>0.0</td>\n",
       "      <td>-240120122_0</td>\n",
       "      <td>67.65</td>\n",
       "      <td>Bus</td>\n",
       "      <td>6.1</td>\n",
       "      <td>711.28</td>\n",
       "      <td>874.23</td>\n",
       "      <td>0.0</td>\n",
       "      <td>BusFlowWestEast0.0</td>\n",
       "    </tr>\n",
       "    <tr>\n",
       "      <th>4</th>\n",
       "      <td>0.0</td>\n",
       "      <td>0.0</td>\n",
       "      <td>-1274_0</td>\n",
       "      <td>16.81</td>\n",
       "      <td>Vehicle</td>\n",
       "      <td>4.1</td>\n",
       "      <td>517.45</td>\n",
       "      <td>1849.76</td>\n",
       "      <td>0.0</td>\n",
       "      <td>VehicleFlowEastToNorth.0</td>\n",
       "    </tr>\n",
       "  </tbody>\n",
       "</table>\n",
       "</div>"
      ],
      "text/plain": [
       "   timestep_time  vehicle_slope  vehicle_lane  vehicle_angle vehicle_type  \\\n",
       "0            0.0            0.0       -1356_0        -101.40          Bus   \n",
       "1            0.0            0.0    28925528_0         -44.63          Bus   \n",
       "2            0.0            0.0   239331354_0         160.22          Bus   \n",
       "3            0.0            0.0  -240120122_0          67.65          Bus   \n",
       "4            0.0            0.0       -1274_0          16.81      Vehicle   \n",
       "\n",
       "   vehicle_pos  vehicle_y  vehicle_x  vehicle_speed                vehicle_id  \n",
       "0          6.1     555.85    1588.94            0.0        BusFlowEastWest0.0  \n",
       "1          6.1     722.81    1270.66            0.0      BusFlowNorthSouth0.0  \n",
       "2          6.1     471.48    1183.77            0.0      BusFlowSouthNorth0.0  \n",
       "3          6.1     711.28     874.23            0.0        BusFlowWestEast0.0  \n",
       "4          4.1     517.45    1849.76            0.0  VehicleFlowEastToNorth.0  "
      ]
     },
     "execution_count": 48,
     "metadata": {},
     "output_type": "execute_result"
    }
   ],
   "source": [
    "df.head()"
   ]
  },
  {
   "cell_type": "code",
   "execution_count": 49,
   "metadata": {},
   "outputs": [
    {
     "data": {
      "text/plain": [
       "0         -1356_0\n",
       "1      28925528_0\n",
       "2     239331354_0\n",
       "3    -240120122_0\n",
       "4         -1274_0\n",
       "Name: vehicle_lane, dtype: object"
      ]
     },
     "execution_count": 49,
     "metadata": {},
     "output_type": "execute_result"
    }
   ],
   "source": [
    "Y.head()"
   ]
  },
  {
   "cell_type": "code",
   "execution_count": 57,
   "metadata": {},
   "outputs": [],
   "source": [
    "X1 = df[df.columns[0:2]]\n",
    "X2 = df[df.columns[3:]]"
   ]
  },
  {
   "cell_type": "code",
   "execution_count": null,
   "metadata": {},
   "outputs": [],
   "source": []
  },
  {
   "cell_type": "code",
   "execution_count": null,
   "metadata": {},
   "outputs": [],
   "source": []
  },
  {
   "cell_type": "code",
   "execution_count": null,
   "metadata": {},
   "outputs": [],
   "source": []
  }
 ],
 "metadata": {
  "kernelspec": {
   "display_name": "Python 3",
   "language": "python",
   "name": "python3"
  },
  "language_info": {
   "codemirror_mode": {
    "name": "ipython",
    "version": 3
   },
   "file_extension": ".py",
   "mimetype": "text/x-python",
   "name": "python",
   "nbconvert_exporter": "python",
   "pygments_lexer": "ipython3",
   "version": "3.7.1"
  }
 },
 "nbformat": 4,
 "nbformat_minor": 2
}
